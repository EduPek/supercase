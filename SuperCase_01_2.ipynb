{
  "nbformat": 4,
  "nbformat_minor": 0,
  "metadata": {
    "colab": {
      "name": "SuperCase_01-2.ipynb",
      "provenance": [],
      "collapsed_sections": [],
      "toc_visible": true
    },
    "kernelspec": {
      "name": "python3",
      "display_name": "Python 3"
    }
  },
  "cells": [
    {
      "cell_type": "markdown",
      "metadata": {
        "id": "kf5t4e_0dIhp"
      },
      "source": [
        "<img src=\"https://insta.ufpr.br/portal/wp-content/uploads/2020/09/Ativo-1-8.png\" width=\"200\"/>\n",
        "\n",
        "# *INSTA Super case*\n",
        "\n",
        "\n",
        "---\n",
        "\n",
        "\n",
        "Case de distribuição de e-commerce"
      ]
    },
    {
      "cell_type": "markdown",
      "metadata": {
        "id": "G1w1UAvzCjle"
      },
      "source": [
        "# **Verifica a versão do Python e importa as bibliotecas básicas**"
      ]
    },
    {
      "cell_type": "code",
      "metadata": {
        "button": false,
        "new_sheet": false,
        "run_control": {
          "read_only": false
        },
        "id": "QSbu0mjslGwG",
        "colab": {
          "base_uri": "https://localhost:8080/"
        },
        "outputId": "6499b09f-9eb8-4a89-8513-08e4f19cf589"
      },
      "source": [
        "# check Python version\n",
        "!python -V\n",
        "\n",
        "import pandas as pd # download library to read data into dataframe\n",
        "#pd.set_option('display.max_columns', None)\n",
        "import numpy as np # import numpy library\n",
        "import matplotlib.pyplot as plt # plots\n",
        "import collections\n",
        "import random # library for random number generation\n",
        "\n",
        "from google.colab import files\n",
        "import io\n",
        "#import csv\n"
      ],
      "execution_count": 61,
      "outputs": [
        {
          "output_type": "stream",
          "text": [
            "Python 3.7.10\n"
          ],
          "name": "stdout"
        }
      ]
    },
    {
      "cell_type": "markdown",
      "metadata": {
        "id": "l_lPsFrTbuTJ"
      },
      "source": [
        "#Importar Arquivo de dados\n",
        "\n",
        "Inclua um CSV com os dados a serem analisados\n",
        " * Incluindo cabeçalho\n",
        " * Separação de campos delimitado por *,*\n",
        " * Separação de linha usando *nova linha*\n",
        "\n",
        " O arquivo tem mais de 6000 registros, pode levar alguns segundos."
      ]
    },
    {
      "cell_type": "code",
      "metadata": {
        "button": false,
        "new_sheet": false,
        "run_control": {
          "read_only": false
        },
        "id": "v16i9xgdlGwH",
        "colab": {
          "resources": {
            "http://localhost:8080/nbextensions/google.colab/files.js": {
              "data": "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",
              "ok": true,
              "headers": [
                [
                  "content-type",
                  "application/javascript"
                ]
              ],
              "status": 200,
              "status_text": ""
            }
          },
          "base_uri": "https://localhost:8080/",
          "height": 330
        },
        "outputId": "383768e1-0239-441b-a19f-6a591a1014c5"
      },
      "source": [
        "# Agradeço ao Rafael Fix por esta parte do código\n",
        "\n",
        "uploaded = files.upload()\n",
        "\n",
        "for fn in uploaded.keys():\n",
        "  print('User uploaded file \"{name}\" with length {length} bytes'.format(\n",
        "      name=fn, length=len(uploaded[fn])))\n",
        "\n",
        "csvString = io.StringIO(uploaded[fn].decode('utf-8'))\n",
        "\n",
        "print(csvString)\n",
        "\n",
        "starsData = pd.read_csv(csvString)\n",
        "\n",
        "print(\"Data read into dataframe!\") # takes about 30 seconds\n",
        "starsData.head()"
      ],
      "execution_count": 62,
      "outputs": [
        {
          "output_type": "display_data",
          "data": {
            "text/html": [
              "\n",
              "     <input type=\"file\" id=\"files-67b67f3b-0d4d-4304-b6d9-a2e9aa53930c\" name=\"files[]\" multiple disabled\n",
              "        style=\"border:none\" />\n",
              "     <output id=\"result-67b67f3b-0d4d-4304-b6d9-a2e9aa53930c\">\n",
              "      Upload widget is only available when the cell has been executed in the\n",
              "      current browser session. Please rerun this cell to enable.\n",
              "      </output>\n",
              "      <script src=\"/nbextensions/google.colab/files.js\"></script> "
            ],
            "text/plain": [
              "<IPython.core.display.HTML object>"
            ]
          },
          "metadata": {
            "tags": []
          }
        },
        {
          "output_type": "stream",
          "text": [
            "Saving SuperCase_data_6000_3.csv to SuperCase_data_6000_3 (5).csv\n",
            "User uploaded file \"SuperCase_data_6000_3.csv\" with length 388945 bytes\n",
            "<_io.StringIO object at 0x7f3275637cd0>\n",
            "Data read into dataframe!\n"
          ],
          "name": "stdout"
        },
        {
          "output_type": "execute_result",
          "data": {
            "text/html": [
              "<div>\n",
              "<style scoped>\n",
              "    .dataframe tbody tr th:only-of-type {\n",
              "        vertical-align: middle;\n",
              "    }\n",
              "\n",
              "    .dataframe tbody tr th {\n",
              "        vertical-align: top;\n",
              "    }\n",
              "\n",
              "    .dataframe thead th {\n",
              "        text-align: right;\n",
              "    }\n",
              "</style>\n",
              "<table border=\"1\" class=\"dataframe\">\n",
              "  <thead>\n",
              "    <tr style=\"text-align: right;\">\n",
              "      <th></th>\n",
              "      <th>Stars</th>\n",
              "      <th>Product</th>\n",
              "      <th>Origin</th>\n",
              "      <th>CD_name</th>\n",
              "      <th>Dest</th>\n",
              "      <th>DistanceTravelled_Fac_CD</th>\n",
              "      <th>TruckType</th>\n",
              "      <th>DriverF_CD</th>\n",
              "      <th>DaysStocked</th>\n",
              "      <th>FloorCD</th>\n",
              "      <th>DistanceTravelled_CD_Client</th>\n",
              "      <th>TruckType2</th>\n",
              "      <th>DriverCD_C</th>\n",
              "      <th>RoutDeliveryOrder</th>\n",
              "    </tr>\n",
              "  </thead>\n",
              "  <tbody>\n",
              "    <tr>\n",
              "      <th>0</th>\n",
              "      <td>4.0</td>\n",
              "      <td>P6</td>\n",
              "      <td>F4</td>\n",
              "      <td>CD2</td>\n",
              "      <td>C203</td>\n",
              "      <td>162</td>\n",
              "      <td>SemiTrailler</td>\n",
              "      <td>D05</td>\n",
              "      <td>37</td>\n",
              "      <td>2</td>\n",
              "      <td>59.7</td>\n",
              "      <td>CityDeliveryTruck</td>\n",
              "      <td>D2_2</td>\n",
              "      <td>2</td>\n",
              "    </tr>\n",
              "    <tr>\n",
              "      <th>1</th>\n",
              "      <td>1.0</td>\n",
              "      <td>P2</td>\n",
              "      <td>F3</td>\n",
              "      <td>CD2</td>\n",
              "      <td>C202</td>\n",
              "      <td>162</td>\n",
              "      <td>SemiTrailler</td>\n",
              "      <td>D06</td>\n",
              "      <td>5</td>\n",
              "      <td>0</td>\n",
              "      <td>94.2</td>\n",
              "      <td>MiniVan</td>\n",
              "      <td>D2_4</td>\n",
              "      <td>3</td>\n",
              "    </tr>\n",
              "    <tr>\n",
              "      <th>2</th>\n",
              "      <td>5.0</td>\n",
              "      <td>P6</td>\n",
              "      <td>F3</td>\n",
              "      <td>CD2</td>\n",
              "      <td>C202</td>\n",
              "      <td>162</td>\n",
              "      <td>SemiTrailler</td>\n",
              "      <td>D04</td>\n",
              "      <td>27</td>\n",
              "      <td>0</td>\n",
              "      <td>30.9</td>\n",
              "      <td>Van</td>\n",
              "      <td>D2_7</td>\n",
              "      <td>1</td>\n",
              "    </tr>\n",
              "    <tr>\n",
              "      <th>3</th>\n",
              "      <td>2.0</td>\n",
              "      <td>P9</td>\n",
              "      <td>F3</td>\n",
              "      <td>CD2</td>\n",
              "      <td>C202</td>\n",
              "      <td>162</td>\n",
              "      <td>SemiTrailler</td>\n",
              "      <td>D03</td>\n",
              "      <td>14</td>\n",
              "      <td>0</td>\n",
              "      <td>89.7</td>\n",
              "      <td>Van</td>\n",
              "      <td>D2_7</td>\n",
              "      <td>3</td>\n",
              "    </tr>\n",
              "    <tr>\n",
              "      <th>4</th>\n",
              "      <td>5.0</td>\n",
              "      <td>P9</td>\n",
              "      <td>F2</td>\n",
              "      <td>CD3</td>\n",
              "      <td>C305</td>\n",
              "      <td>58</td>\n",
              "      <td>Truck</td>\n",
              "      <td>D03</td>\n",
              "      <td>30</td>\n",
              "      <td>1</td>\n",
              "      <td>171.7</td>\n",
              "      <td>Van</td>\n",
              "      <td>D3_2</td>\n",
              "      <td>6</td>\n",
              "    </tr>\n",
              "  </tbody>\n",
              "</table>\n",
              "</div>"
            ],
            "text/plain": [
              "   Stars Product Origin  ...         TruckType2 DriverCD_C  RoutDeliveryOrder\n",
              "0    4.0      P6     F4  ...  CityDeliveryTruck       D2_2                  2\n",
              "1    1.0      P2     F3  ...            MiniVan       D2_4                  3\n",
              "2    5.0      P6     F3  ...                Van       D2_7                  1\n",
              "3    2.0      P9     F3  ...                Van       D2_7                  3\n",
              "4    5.0      P9     F2  ...                Van       D3_2                  6\n",
              "\n",
              "[5 rows x 14 columns]"
            ]
          },
          "metadata": {
            "tags": []
          },
          "execution_count": 62
        }
      ]
    },
    {
      "cell_type": "markdown",
      "metadata": {
        "id": "lbQQp8MmkyMd"
      },
      "source": [
        "# Padronização do DataTable\n",
        "\n",
        "\n",
        "## Renomear a primeira coluna para \"stars\"\n",
        "\n",
        "Para se adequar ao código"
      ]
    },
    {
      "cell_type": "code",
      "metadata": {
        "colab": {
          "base_uri": "https://localhost:8080/"
        },
        "id": "NWF8MbGo4lRa",
        "outputId": "122bb56d-14cd-4892-bd34-539bf257340b"
      },
      "source": [
        "# fix name of the column displaying the Stars\n",
        "column_names = starsData.columns.values\n",
        "print(starsData.columns.values)\n",
        "column_names[0] = \"stars\"\n",
        "starsData.columns = column_names\n",
        "print(column_names)\n"
      ],
      "execution_count": 63,
      "outputs": [
        {
          "output_type": "stream",
          "text": [
            "['Stars' 'Product' 'Origin' 'CD_name' 'Dest' 'DistanceTravelled_Fac_CD'\n",
            " 'TruckType' 'DriverF_CD' 'DaysStocked' 'FloorCD'\n",
            " 'DistanceTravelled_CD_Client' 'TruckType2' 'DriverCD_C'\n",
            " 'RoutDeliveryOrder']\n",
            "['stars' 'Product' 'Origin' 'CD_name' 'Dest' 'DistanceTravelled_Fac_CD'\n",
            " 'TruckType' 'DriverF_CD' 'DaysStocked' 'FloorCD'\n",
            " 'DistanceTravelled_CD_Client' 'TruckType2' 'DriverCD_C'\n",
            " 'RoutDeliveryOrder']\n"
          ],
          "name": "stdout"
        }
      ]
    },
    {
      "cell_type": "markdown",
      "metadata": {
        "id": "YhBvGw5ulFva"
      },
      "source": [
        "# Verificando os dados\n",
        "\n",
        "## Em um contexto real, deveríamos verificar cada coluna minuciosamente procurando por valores fora dos padrões. Mas aqui vamos \"verificar\" somente a coluna \"stars\"\n",
        "\n",
        "### Exemplos mais comuns de valores fora dos padrões são: \n",
        "\n",
        "* Valores numéricos fora do intervalo, por exemplo quantidades de estrelas igual a 15, quando devia ser de 1 a 5.\n",
        "* Texto no local de valores numéricos\n",
        "* Valores \"nan\" Not a Number\n",
        "* Para valores de categorias, no nosso exemplo os produtos são P1, P2, P3; Caso apareca um \"Produto 1\" precisa ser uniformizado\n"
      ]
    },
    {
      "cell_type": "code",
      "metadata": {
        "colab": {
          "base_uri": "https://localhost:8080/",
          "height": 366
        },
        "id": "AFLRf8amuC5_",
        "outputId": "0bc85faa-9805-4194-f72a-5257ba65bf3b"
      },
      "source": [
        "starsData[\"stars\"].value_counts() # frequency table\n",
        "\n",
        "print(starsData[\"stars\"].mean())\n",
        "\n",
        "c = collections.Counter(starsData[\"stars\"])\n",
        "c = sorted(c.items())\n",
        "print(c)\n",
        "\n",
        "stars_num = [i[0] for i in c]\n",
        "freq = [i[1] for i in c]\n",
        "\n",
        "f, ax = plt.subplots()\n",
        "\n",
        "plt.bar(stars_num, freq)\n",
        "\n",
        "plt.title(\"Stars Frequency\")\n",
        "plt.xlabel(\"Stars\")\n",
        "plt.ylabel(\"Frequency\")\n",
        "#ax.set_xticks(range(1, 8))\n",
        "\n",
        "plt.show()\n",
        "\n",
        "print(stars_num)"
      ],
      "execution_count": 64,
      "outputs": [
        {
          "output_type": "stream",
          "text": [
            "3.0360038923126824\n",
            "[(1.0, 1154), (2.0, 1180), (3.0, 1372), (4.0, 1236), (5.0, 1198), (6.0, 26), (nan, 1), (nan, 1), (nan, 1), (nan, 1), (nan, 1), (nan, 1), (nan, 1), (nan, 1), (nan, 1), (nan, 1), (nan, 1), (nan, 1), (nan, 1), (nan, 1), (nan, 1), (nan, 1), (nan, 1), (nan, 1), (nan, 1), (nan, 1), (nan, 1)]\n"
          ],
          "name": "stdout"
        },
        {
          "output_type": "display_data",
          "data": {
            "image/png": "[encoded data removed]",
            "text/plain": [
              "<Figure size 432x288 with 1 Axes>"
            ]
          },
          "metadata": {
            "tags": [],
            "needs_background": "light"
          }
        },
        {
          "output_type": "stream",
          "text": [
            "[1.0, 2.0, 3.0, 4.0, 5.0, 6.0, nan, nan, nan, nan, nan, nan, nan, nan, nan, nan, nan, nan, nan, nan, nan, nan, nan, nan, nan, nan, nan]\n"
          ],
          "name": "stdout"
        }
      ]
    },
    {
      "cell_type": "markdown",
      "metadata": {
        "id": "S8GbaOIZMWM6"
      },
      "source": [
        "# Existem dados fora do intevalo de estrelas [1,5] , alguns valores são 6 outros são NAN\n",
        "\n",
        "##Limpar dados de estrelas fora do intervalo [1,5], excluindo os registros"
      ]
    },
    {
      "cell_type": "code",
      "metadata": {
        "colab": {
          "base_uri": "https://localhost:8080/",
          "height": 346
        },
        "id": "FghJezLtNdHO",
        "outputId": "8033ab2c-79c4-41a3-ac29-d5c8728d4ff0"
      },
      "source": [
        "starsData = starsData[starsData[\"stars\"] <= 5]\n",
        "starsData = starsData[starsData[\"stars\"] >= 1]\n",
        "\n",
        "starsData = starsData[starsData[\"FloorCD\"] <= 4] # aproveitei e padronizei outros dados numéricos também\n",
        "starsData = starsData[starsData[\"FloorCD\"] >= 0]\n",
        "\n",
        "starsData = starsData[starsData[\"RoutDeliveryOrder\"] <= 6]\n",
        "starsData = starsData[starsData[\"RoutDeliveryOrder\"] >= 1]\n",
        "\n",
        "starsData[\"stars\"].value_counts() # frequency table\n",
        "\n",
        "print(starsData[\"stars\"].mean())\n",
        "\n",
        "c = collections.Counter(starsData[\"stars\"])\n",
        "c = sorted(c.items())\n",
        "print(c)\n",
        "\n",
        "stars_num = [i[0] for i in c]\n",
        "freq = [i[1] for i in c]\n",
        "\n",
        "f, ax = plt.subplots()\n",
        "\n",
        "plt.bar(stars_num, freq)\n",
        "\n",
        "plt.title(\"Stars Frequency\")\n",
        "plt.xlabel(\"Stars\")\n",
        "plt.ylabel(\"Frequency\")\n",
        "\n",
        "plt.show()\n",
        "\n",
        "print(stars_num)\n",
        "\n",
        "starsData = starsData.reset_index(drop=True) # É importante refazer o indice do dataFrame, apeos excluir linhas, pois pode gerar problema no SciKit Learn\n"
      ],
      "execution_count": 65,
      "outputs": [
        {
          "output_type": "stream",
          "text": [
            "3.0234527687296415\n",
            "[(1.0, 1154), (2.0, 1180), (3.0, 1372), (4.0, 1236), (5.0, 1198)]\n"
          ],
          "name": "stdout"
        },
        {
          "output_type": "display_data",
          "data": {
            "image/png": "[encoded data removed]",
            "text/plain": [
              "<Figure size 432x288 with 1 Axes>"
            ]
          },
          "metadata": {
            "tags": [],
            "needs_background": "light"
          }
        },
        {
          "output_type": "stream",
          "text": [
            "[1.0, 2.0, 3.0, 4.0, 5.0]\n"
          ],
          "name": "stdout"
        }
      ]
    },
    {
      "cell_type": "markdown",
      "metadata": {
        "id": "DD7oHMU-5RkO"
      },
      "source": [
        "#Outras inconsistências nos dados\n",
        "\n",
        "### Note a coluna Driver_F_CD, ela só tem os valores \"D01\" ... \"D06\" mas não sabemos se o motorista D01 pode trabalhar no CD1, CD2 ou CD3 ? Isso não te parece no mínimo esquisito ?\n",
        "\n",
        "### Fica como Lição de casa você pensar em uma alternativa\n"
      ]
    },
    {
      "cell_type": "code",
      "metadata": {
        "colab": {
          "base_uri": "https://localhost:8080/",
          "height": 376
        },
        "id": "ZvgwIm1n4KS1",
        "outputId": "c6fc5777-09c6-4cfa-cb94-7a139db9e51e"
      },
      "source": [
        "ct = pd.crosstab(index=starsData['CD_name'], columns=starsData['DriverF_CD'])\n",
        "\n",
        "ct.plot.bar(stacked=True)\n",
        "plt.legend(title='Driver')\n",
        "\n",
        "plt.show()\n",
        "\n",
        "print(ct)\n"
      ],
      "execution_count": 66,
      "outputs": [
        {
          "output_type": "display_data",
          "data": {
            "image/png": "[encoded data removed]",
            "text/plain": [
              "<Figure size 432x288 with 1 Axes>"
            ]
          },
          "metadata": {
            "tags": [],
            "needs_background": "light"
          }
        },
        {
          "output_type": "stream",
          "text": [
            "DriverF_CD  D01  D02  D03  D04  D05  D06\n",
            "CD_name                                 \n",
            "CD1         316  388  352  376  342  372\n",
            "CD2         294  338  310  350  310  372\n",
            "CD3         344  330  312  360  324  350\n"
          ],
          "name": "stdout"
        }
      ]
    },
    {
      "cell_type": "markdown",
      "metadata": {
        "id": "ybeylih_rP96"
      },
      "source": [
        "# Começando a análise\n",
        "\n",
        "## Importar as bibliotecas: \n",
        "* SKLEARN\n",
        "* graphviz\n",
        "* matplotlib\n"
      ]
    },
    {
      "cell_type": "code",
      "metadata": {
        "button": false,
        "new_sheet": false,
        "run_control": {
          "read_only": false
        },
        "id": "Onk8NCykljQb"
      },
      "source": [
        "# import decision trees scikit-learn libraries\n",
        "%matplotlib inline\n",
        "from sklearn import tree\n",
        "from sklearn.metrics import accuracy_score, confusion_matrix # Não usaremos essas métricas neste exemplo\n",
        "\n",
        "import matplotlib.pyplot as plt\n",
        "\n",
        "#!conda install python-graphviz --yes\n",
        "import graphviz\n",
        "\n",
        "from sklearn.tree import export_graphviz\n",
        "\n",
        "import itertools"
      ],
      "execution_count": 67,
      "outputs": []
    },
    {
      "cell_type": "markdown",
      "metadata": {
        "id": "eCCRt-5_r4I7"
      },
      "source": [
        "# Separar o dataFrame em variáveis dependentes e independentes"
      ]
    },
    {
      "cell_type": "code",
      "metadata": {
        "button": false,
        "jupyter": {
          "outputs_hidden": false
        },
        "new_sheet": false,
        "run_control": {
          "read_only": false
        },
        "id": "A4BXdakoljQf",
        "colab": {
          "base_uri": "https://localhost:8080/"
        },
        "outputId": "7378ef3e-304a-4f18-d822-a135c7530fb8"
      },
      "source": [
        "# split the DataFrame\n",
        "stars = starsData[\"stars\"] # Só a coluna \"stars\"\n",
        "stars_class = stars[:]\n",
        "variables = starsData.iloc[:,1:] # Todas as outras colunas com excessão da \"stars\"\n",
        "\n",
        "# Deixe essa parte do código comentado poor enquanto\n",
        "\n",
        "# stars_class.loc[stars <= 2] = \"bad\"\n",
        "# stars_class.loc[stars == 3] = \"average\"\n",
        "# stars_class.loc[stars >= 4] = \"good\"\n",
        "\n",
        "stars_class.head()"
      ],
      "execution_count": 68,
      "outputs": [
        {
          "output_type": "execute_result",
          "data": {
            "text/plain": [
              "0    good\n",
              "1     bad\n",
              "2    good\n",
              "3     bad\n",
              "4    good\n",
              "Name: stars, dtype: object"
            ]
          },
          "metadata": {
            "tags": []
          },
          "execution_count": 68
        }
      ]
    },
    {
      "cell_type": "code",
      "metadata": {
        "colab": {
          "base_uri": "https://localhost:8080/",
          "height": 204
        },
        "id": "5NxfaEsj7JqS",
        "outputId": "1e78599a-80a4-4936-ba60-b24b8960aa6f"
      },
      "source": [
        "variables.head()"
      ],
      "execution_count": 69,
      "outputs": [
        {
          "output_type": "execute_result",
          "data": {
            "text/html": [
              "<div>\n",
              "<style scoped>\n",
              "    .dataframe tbody tr th:only-of-type {\n",
              "        vertical-align: middle;\n",
              "    }\n",
              "\n",
              "    .dataframe tbody tr th {\n",
              "        vertical-align: top;\n",
              "    }\n",
              "\n",
              "    .dataframe thead th {\n",
              "        text-align: right;\n",
              "    }\n",
              "</style>\n",
              "<table border=\"1\" class=\"dataframe\">\n",
              "  <thead>\n",
              "    <tr style=\"text-align: right;\">\n",
              "      <th></th>\n",
              "      <th>Product</th>\n",
              "      <th>Origin</th>\n",
              "      <th>CD_name</th>\n",
              "      <th>Dest</th>\n",
              "      <th>DistanceTravelled_Fac_CD</th>\n",
              "      <th>TruckType</th>\n",
              "      <th>DriverF_CD</th>\n",
              "      <th>DaysStocked</th>\n",
              "      <th>FloorCD</th>\n",
              "      <th>DistanceTravelled_CD_Client</th>\n",
              "      <th>TruckType2</th>\n",
              "      <th>DriverCD_C</th>\n",
              "      <th>RoutDeliveryOrder</th>\n",
              "    </tr>\n",
              "  </thead>\n",
              "  <tbody>\n",
              "    <tr>\n",
              "      <th>0</th>\n",
              "      <td>P6</td>\n",
              "      <td>F4</td>\n",
              "      <td>CD2</td>\n",
              "      <td>C203</td>\n",
              "      <td>162</td>\n",
              "      <td>SemiTrailler</td>\n",
              "      <td>D05</td>\n",
              "      <td>37</td>\n",
              "      <td>2</td>\n",
              "      <td>59.7</td>\n",
              "      <td>CityDeliveryTruck</td>\n",
              "      <td>D2_2</td>\n",
              "      <td>2</td>\n",
              "    </tr>\n",
              "    <tr>\n",
              "      <th>1</th>\n",
              "      <td>P2</td>\n",
              "      <td>F3</td>\n",
              "      <td>CD2</td>\n",
              "      <td>C202</td>\n",
              "      <td>162</td>\n",
              "      <td>SemiTrailler</td>\n",
              "      <td>D06</td>\n",
              "      <td>5</td>\n",
              "      <td>0</td>\n",
              "      <td>94.2</td>\n",
              "      <td>MiniVan</td>\n",
              "      <td>D2_4</td>\n",
              "      <td>3</td>\n",
              "    </tr>\n",
              "    <tr>\n",
              "      <th>2</th>\n",
              "      <td>P6</td>\n",
              "      <td>F3</td>\n",
              "      <td>CD2</td>\n",
              "      <td>C202</td>\n",
              "      <td>162</td>\n",
              "      <td>SemiTrailler</td>\n",
              "      <td>D04</td>\n",
              "      <td>27</td>\n",
              "      <td>0</td>\n",
              "      <td>30.9</td>\n",
              "      <td>Van</td>\n",
              "      <td>D2_7</td>\n",
              "      <td>1</td>\n",
              "    </tr>\n",
              "    <tr>\n",
              "      <th>3</th>\n",
              "      <td>P9</td>\n",
              "      <td>F3</td>\n",
              "      <td>CD2</td>\n",
              "      <td>C202</td>\n",
              "      <td>162</td>\n",
              "      <td>SemiTrailler</td>\n",
              "      <td>D03</td>\n",
              "      <td>14</td>\n",
              "      <td>0</td>\n",
              "      <td>89.7</td>\n",
              "      <td>Van</td>\n",
              "      <td>D2_7</td>\n",
              "      <td>3</td>\n",
              "    </tr>\n",
              "    <tr>\n",
              "      <th>4</th>\n",
              "      <td>P9</td>\n",
              "      <td>F2</td>\n",
              "      <td>CD3</td>\n",
              "      <td>C305</td>\n",
              "      <td>58</td>\n",
              "      <td>Truck</td>\n",
              "      <td>D03</td>\n",
              "      <td>30</td>\n",
              "      <td>1</td>\n",
              "      <td>171.7</td>\n",
              "      <td>Van</td>\n",
              "      <td>D3_2</td>\n",
              "      <td>6</td>\n",
              "    </tr>\n",
              "  </tbody>\n",
              "</table>\n",
              "</div>"
            ],
            "text/plain": [
              "  Product Origin CD_name  ...         TruckType2  DriverCD_C RoutDeliveryOrder\n",
              "0      P6     F4     CD2  ...  CityDeliveryTruck        D2_2                 2\n",
              "1      P2     F3     CD2  ...            MiniVan        D2_4                 3\n",
              "2      P6     F3     CD2  ...                Van        D2_7                 1\n",
              "3      P9     F3     CD2  ...                Van        D2_7                 3\n",
              "4      P9     F2     CD3  ...                Van        D3_2                 6\n",
              "\n",
              "[5 rows x 13 columns]"
            ]
          },
          "metadata": {
            "tags": []
          },
          "execution_count": 69
        }
      ]
    },
    {
      "cell_type": "markdown",
      "metadata": {
        "id": "13OQZX-nsS_6"
      },
      "source": [
        "# Adequação das variáveis categóricas em colunas binárias - OneHotEncoder\n",
        "\n",
        "\n"
      ]
    },
    {
      "cell_type": "code",
      "metadata": {
        "colab": {
          "base_uri": "https://localhost:8080/",
          "height": 224
        },
        "id": "GBmtfwUC7F9j",
        "outputId": "ef40503c-025d-4a95-f7a0-40d833345c07"
      },
      "source": [
        "from sklearn.preprocessing import OneHotEncoder\n",
        "\n",
        "enc = OneHotEncoder(handle_unknown='ignore', sparse= False)\n",
        "\n",
        "prod_encoded = pd.DataFrame (enc.fit_transform(variables[['Product']])).astype(int)\n",
        "prod_encoded.columns = enc.get_feature_names(['Product'])\n",
        "\n",
        "origin_encoded = pd.DataFrame (enc.fit_transform(variables[['Origin']])).astype(int)\n",
        "origin_encoded.columns = enc.get_feature_names(['Origin'])\n",
        "\n",
        "CD_encoded = pd.DataFrame (enc.fit_transform(variables[['CD_name']])).astype(int)\n",
        "CD_encoded.columns = enc.get_feature_names(['CD_name'])\n",
        "\n",
        "Destination_encoded = pd.DataFrame (enc.fit_transform(variables[['Dest']])).astype(int)\n",
        "Destination_encoded.columns = enc.get_feature_names(['Dest'])\n",
        "\n",
        "TruckType_encoded = pd.DataFrame (enc.fit_transform(variables[['TruckType']])).astype(int)\n",
        "TruckType_encoded.columns = enc.get_feature_names(['TruckType'])\n",
        "\n",
        "FloorCD_encoded = pd.DataFrame (enc.fit_transform(variables[['FloorCD']])).astype(int)\n",
        "FloorCD_encoded.columns = enc.get_feature_names(['FloorCD'])\n",
        "\n",
        "TruckType2_encoded = pd.DataFrame (enc.fit_transform(variables[['TruckType2']])).astype(int)\n",
        "TruckType2_encoded.columns = enc.get_feature_names(['TruckType2'])\n",
        "\n",
        "DriverCD_C_encoded = pd.DataFrame (enc.fit_transform(variables[['DriverCD_C']])).astype(int)\n",
        "DriverCD_C_encoded.columns = enc.get_feature_names(['DriverCD_C'])\n",
        "\n",
        "var1 = pd.concat([prod_encoded, origin_encoded, CD_encoded, Destination_encoded, TruckType_encoded, FloorCD_encoded, TruckType2_encoded, DriverCD_C_encoded, variables[\"RoutDeliveryOrder\"]], axis=1)\n",
        "\n",
        "var1.head()\n",
        "\n",
        "\n"
      ],
      "execution_count": 70,
      "outputs": [
        {
          "output_type": "execute_result",
          "data": {
            "text/html": [
              "<div>\n",
              "<style scoped>\n",
              "    .dataframe tbody tr th:only-of-type {\n",
              "        vertical-align: middle;\n",
              "    }\n",
              "\n",
              "    .dataframe tbody tr th {\n",
              "        vertical-align: top;\n",
              "    }\n",
              "\n",
              "    .dataframe thead th {\n",
              "        text-align: right;\n",
              "    }\n",
              "</style>\n",
              "<table border=\"1\" class=\"dataframe\">\n",
              "  <thead>\n",
              "    <tr style=\"text-align: right;\">\n",
              "      <th></th>\n",
              "      <th>Product_P1</th>\n",
              "      <th>Product_P10</th>\n",
              "      <th>Product_P11</th>\n",
              "      <th>Product_P12</th>\n",
              "      <th>Product_P13</th>\n",
              "      <th>Product_P14</th>\n",
              "      <th>Product_P15</th>\n",
              "      <th>Product_P2</th>\n",
              "      <th>Product_P3</th>\n",
              "      <th>Product_P4</th>\n",
              "      <th>Product_P5</th>\n",
              "      <th>Product_P6</th>\n",
              "      <th>Product_P7</th>\n",
              "      <th>Product_P8</th>\n",
              "      <th>Product_P9</th>\n",
              "      <th>Origin_F1</th>\n",
              "      <th>Origin_F2</th>\n",
              "      <th>Origin_F3</th>\n",
              "      <th>Origin_F4</th>\n",
              "      <th>CD_name_CD1</th>\n",
              "      <th>CD_name_CD2</th>\n",
              "      <th>CD_name_CD3</th>\n",
              "      <th>Dest_C101</th>\n",
              "      <th>Dest_C102</th>\n",
              "      <th>Dest_C103</th>\n",
              "      <th>Dest_C104</th>\n",
              "      <th>Dest_C105</th>\n",
              "      <th>Dest_C201</th>\n",
              "      <th>Dest_C202</th>\n",
              "      <th>Dest_C203</th>\n",
              "      <th>Dest_C204</th>\n",
              "      <th>Dest_C205</th>\n",
              "      <th>Dest_C301</th>\n",
              "      <th>Dest_C302</th>\n",
              "      <th>Dest_C303</th>\n",
              "      <th>Dest_C304</th>\n",
              "      <th>Dest_C305</th>\n",
              "      <th>TruckType_SemiTrailler</th>\n",
              "      <th>TruckType_Truck</th>\n",
              "      <th>FloorCD_0</th>\n",
              "      <th>FloorCD_1</th>\n",
              "      <th>FloorCD_2</th>\n",
              "      <th>FloorCD_3</th>\n",
              "      <th>FloorCD_4</th>\n",
              "      <th>TruckType2_CityDeliveryTruck</th>\n",
              "      <th>TruckType2_MiniVan</th>\n",
              "      <th>TruckType2_Van</th>\n",
              "      <th>DriverCD_C_D1_1</th>\n",
              "      <th>DriverCD_C_D1_2</th>\n",
              "      <th>DriverCD_C_D1_3</th>\n",
              "      <th>DriverCD_C_D1_4</th>\n",
              "      <th>DriverCD_C_D1_5</th>\n",
              "      <th>DriverCD_C_D1_6</th>\n",
              "      <th>DriverCD_C_D1_7</th>\n",
              "      <th>DriverCD_C_D2_1</th>\n",
              "      <th>DriverCD_C_D2_2</th>\n",
              "      <th>DriverCD_C_D2_3</th>\n",
              "      <th>DriverCD_C_D2_4</th>\n",
              "      <th>DriverCD_C_D2_5</th>\n",
              "      <th>DriverCD_C_D2_6</th>\n",
              "      <th>DriverCD_C_D2_7</th>\n",
              "      <th>DriverCD_C_D3_1</th>\n",
              "      <th>DriverCD_C_D3_2</th>\n",
              "      <th>DriverCD_C_D3_3</th>\n",
              "      <th>DriverCD_C_D3_4</th>\n",
              "      <th>DriverCD_C_D3_5</th>\n",
              "      <th>DriverCD_C_D3_6</th>\n",
              "      <th>DriverCD_C_D3_7</th>\n",
              "      <th>RoutDeliveryOrder</th>\n",
              "    </tr>\n",
              "  </thead>\n",
              "  <tbody>\n",
              "    <tr>\n",
              "      <th>0</th>\n",
              "      <td>0</td>\n",
              "      <td>0</td>\n",
              "      <td>0</td>\n",
              "      <td>0</td>\n",
              "      <td>0</td>\n",
              "      <td>0</td>\n",
              "      <td>0</td>\n",
              "      <td>0</td>\n",
              "      <td>0</td>\n",
              "      <td>0</td>\n",
              "      <td>0</td>\n",
              "      <td>1</td>\n",
              "      <td>0</td>\n",
              "      <td>0</td>\n",
              "      <td>0</td>\n",
              "      <td>0</td>\n",
              "      <td>0</td>\n",
              "      <td>0</td>\n",
              "      <td>1</td>\n",
              "      <td>0</td>\n",
              "      <td>1</td>\n",
              "      <td>0</td>\n",
              "      <td>0</td>\n",
              "      <td>0</td>\n",
              "      <td>0</td>\n",
              "      <td>0</td>\n",
              "      <td>0</td>\n",
              "      <td>0</td>\n",
              "      <td>0</td>\n",
              "      <td>1</td>\n",
              "      <td>0</td>\n",
              "      <td>0</td>\n",
              "      <td>0</td>\n",
              "      <td>0</td>\n",
              "      <td>0</td>\n",
              "      <td>0</td>\n",
              "      <td>0</td>\n",
              "      <td>1</td>\n",
              "      <td>0</td>\n",
              "      <td>0</td>\n",
              "      <td>0</td>\n",
              "      <td>1</td>\n",
              "      <td>0</td>\n",
              "      <td>0</td>\n",
              "      <td>1</td>\n",
              "      <td>0</td>\n",
              "      <td>0</td>\n",
              "      <td>0</td>\n",
              "      <td>0</td>\n",
              "      <td>0</td>\n",
              "      <td>0</td>\n",
              "      <td>0</td>\n",
              "      <td>0</td>\n",
              "      <td>0</td>\n",
              "      <td>0</td>\n",
              "      <td>1</td>\n",
              "      <td>0</td>\n",
              "      <td>0</td>\n",
              "      <td>0</td>\n",
              "      <td>0</td>\n",
              "      <td>0</td>\n",
              "      <td>0</td>\n",
              "      <td>0</td>\n",
              "      <td>0</td>\n",
              "      <td>0</td>\n",
              "      <td>0</td>\n",
              "      <td>0</td>\n",
              "      <td>0</td>\n",
              "      <td>2</td>\n",
              "    </tr>\n",
              "    <tr>\n",
              "      <th>1</th>\n",
              "      <td>0</td>\n",
              "      <td>0</td>\n",
              "      <td>0</td>\n",
              "      <td>0</td>\n",
              "      <td>0</td>\n",
              "      <td>0</td>\n",
              "      <td>0</td>\n",
              "      <td>1</td>\n",
              "      <td>0</td>\n",
              "      <td>0</td>\n",
              "      <td>0</td>\n",
              "      <td>0</td>\n",
              "      <td>0</td>\n",
              "      <td>0</td>\n",
              "      <td>0</td>\n",
              "      <td>0</td>\n",
              "      <td>0</td>\n",
              "      <td>1</td>\n",
              "      <td>0</td>\n",
              "      <td>0</td>\n",
              "      <td>1</td>\n",
              "      <td>0</td>\n",
              "      <td>0</td>\n",
              "      <td>0</td>\n",
              "      <td>0</td>\n",
              "      <td>0</td>\n",
              "      <td>0</td>\n",
              "      <td>0</td>\n",
              "      <td>1</td>\n",
              "      <td>0</td>\n",
              "      <td>0</td>\n",
              "      <td>0</td>\n",
              "      <td>0</td>\n",
              "      <td>0</td>\n",
              "      <td>0</td>\n",
              "      <td>0</td>\n",
              "      <td>0</td>\n",
              "      <td>1</td>\n",
              "      <td>0</td>\n",
              "      <td>1</td>\n",
              "      <td>0</td>\n",
              "      <td>0</td>\n",
              "      <td>0</td>\n",
              "      <td>0</td>\n",
              "      <td>0</td>\n",
              "      <td>1</td>\n",
              "      <td>0</td>\n",
              "      <td>0</td>\n",
              "      <td>0</td>\n",
              "      <td>0</td>\n",
              "      <td>0</td>\n",
              "      <td>0</td>\n",
              "      <td>0</td>\n",
              "      <td>0</td>\n",
              "      <td>0</td>\n",
              "      <td>0</td>\n",
              "      <td>0</td>\n",
              "      <td>1</td>\n",
              "      <td>0</td>\n",
              "      <td>0</td>\n",
              "      <td>0</td>\n",
              "      <td>0</td>\n",
              "      <td>0</td>\n",
              "      <td>0</td>\n",
              "      <td>0</td>\n",
              "      <td>0</td>\n",
              "      <td>0</td>\n",
              "      <td>0</td>\n",
              "      <td>3</td>\n",
              "    </tr>\n",
              "    <tr>\n",
              "      <th>2</th>\n",
              "      <td>0</td>\n",
              "      <td>0</td>\n",
              "      <td>0</td>\n",
              "      <td>0</td>\n",
              "      <td>0</td>\n",
              "      <td>0</td>\n",
              "      <td>0</td>\n",
              "      <td>0</td>\n",
              "      <td>0</td>\n",
              "      <td>0</td>\n",
              "      <td>0</td>\n",
              "      <td>1</td>\n",
              "      <td>0</td>\n",
              "      <td>0</td>\n",
              "      <td>0</td>\n",
              "      <td>0</td>\n",
              "      <td>0</td>\n",
              "      <td>1</td>\n",
              "      <td>0</td>\n",
              "      <td>0</td>\n",
              "      <td>1</td>\n",
              "      <td>0</td>\n",
              "      <td>0</td>\n",
              "      <td>0</td>\n",
              "      <td>0</td>\n",
              "      <td>0</td>\n",
              "      <td>0</td>\n",
              "      <td>0</td>\n",
              "      <td>1</td>\n",
              "      <td>0</td>\n",
              "      <td>0</td>\n",
              "      <td>0</td>\n",
              "      <td>0</td>\n",
              "      <td>0</td>\n",
              "      <td>0</td>\n",
              "      <td>0</td>\n",
              "      <td>0</td>\n",
              "      <td>1</td>\n",
              "      <td>0</td>\n",
              "      <td>1</td>\n",
              "      <td>0</td>\n",
              "      <td>0</td>\n",
              "      <td>0</td>\n",
              "      <td>0</td>\n",
              "      <td>0</td>\n",
              "      <td>0</td>\n",
              "      <td>1</td>\n",
              "      <td>0</td>\n",
              "      <td>0</td>\n",
              "      <td>0</td>\n",
              "      <td>0</td>\n",
              "      <td>0</td>\n",
              "      <td>0</td>\n",
              "      <td>0</td>\n",
              "      <td>0</td>\n",
              "      <td>0</td>\n",
              "      <td>0</td>\n",
              "      <td>0</td>\n",
              "      <td>0</td>\n",
              "      <td>0</td>\n",
              "      <td>1</td>\n",
              "      <td>0</td>\n",
              "      <td>0</td>\n",
              "      <td>0</td>\n",
              "      <td>0</td>\n",
              "      <td>0</td>\n",
              "      <td>0</td>\n",
              "      <td>0</td>\n",
              "      <td>1</td>\n",
              "    </tr>\n",
              "    <tr>\n",
              "      <th>3</th>\n",
              "      <td>0</td>\n",
              "      <td>0</td>\n",
              "      <td>0</td>\n",
              "      <td>0</td>\n",
              "      <td>0</td>\n",
              "      <td>0</td>\n",
              "      <td>0</td>\n",
              "      <td>0</td>\n",
              "      <td>0</td>\n",
              "      <td>0</td>\n",
              "      <td>0</td>\n",
              "      <td>0</td>\n",
              "      <td>0</td>\n",
              "      <td>0</td>\n",
              "      <td>1</td>\n",
              "      <td>0</td>\n",
              "      <td>0</td>\n",
              "      <td>1</td>\n",
              "      <td>0</td>\n",
              "      <td>0</td>\n",
              "      <td>1</td>\n",
              "      <td>0</td>\n",
              "      <td>0</td>\n",
              "      <td>0</td>\n",
              "      <td>0</td>\n",
              "      <td>0</td>\n",
              "      <td>0</td>\n",
              "      <td>0</td>\n",
              "      <td>1</td>\n",
              "      <td>0</td>\n",
              "      <td>0</td>\n",
              "      <td>0</td>\n",
              "      <td>0</td>\n",
              "      <td>0</td>\n",
              "      <td>0</td>\n",
              "      <td>0</td>\n",
              "      <td>0</td>\n",
              "      <td>1</td>\n",
              "      <td>0</td>\n",
              "      <td>1</td>\n",
              "      <td>0</td>\n",
              "      <td>0</td>\n",
              "      <td>0</td>\n",
              "      <td>0</td>\n",
              "      <td>0</td>\n",
              "      <td>0</td>\n",
              "      <td>1</td>\n",
              "      <td>0</td>\n",
              "      <td>0</td>\n",
              "      <td>0</td>\n",
              "      <td>0</td>\n",
              "      <td>0</td>\n",
              "      <td>0</td>\n",
              "      <td>0</td>\n",
              "      <td>0</td>\n",
              "      <td>0</td>\n",
              "      <td>0</td>\n",
              "      <td>0</td>\n",
              "      <td>0</td>\n",
              "      <td>0</td>\n",
              "      <td>1</td>\n",
              "      <td>0</td>\n",
              "      <td>0</td>\n",
              "      <td>0</td>\n",
              "      <td>0</td>\n",
              "      <td>0</td>\n",
              "      <td>0</td>\n",
              "      <td>0</td>\n",
              "      <td>3</td>\n",
              "    </tr>\n",
              "    <tr>\n",
              "      <th>4</th>\n",
              "      <td>0</td>\n",
              "      <td>0</td>\n",
              "      <td>0</td>\n",
              "      <td>0</td>\n",
              "      <td>0</td>\n",
              "      <td>0</td>\n",
              "      <td>0</td>\n",
              "      <td>0</td>\n",
              "      <td>0</td>\n",
              "      <td>0</td>\n",
              "      <td>0</td>\n",
              "      <td>0</td>\n",
              "      <td>0</td>\n",
              "      <td>0</td>\n",
              "      <td>1</td>\n",
              "      <td>0</td>\n",
              "      <td>1</td>\n",
              "      <td>0</td>\n",
              "      <td>0</td>\n",
              "      <td>0</td>\n",
              "      <td>0</td>\n",
              "      <td>1</td>\n",
              "      <td>0</td>\n",
              "      <td>0</td>\n",
              "      <td>0</td>\n",
              "      <td>0</td>\n",
              "      <td>0</td>\n",
              "      <td>0</td>\n",
              "      <td>0</td>\n",
              "      <td>0</td>\n",
              "      <td>0</td>\n",
              "      <td>0</td>\n",
              "      <td>0</td>\n",
              "      <td>0</td>\n",
              "      <td>0</td>\n",
              "      <td>0</td>\n",
              "      <td>1</td>\n",
              "      <td>0</td>\n",
              "      <td>1</td>\n",
              "      <td>0</td>\n",
              "      <td>1</td>\n",
              "      <td>0</td>\n",
              "      <td>0</td>\n",
              "      <td>0</td>\n",
              "      <td>0</td>\n",
              "      <td>0</td>\n",
              "      <td>1</td>\n",
              "      <td>0</td>\n",
              "      <td>0</td>\n",
              "      <td>0</td>\n",
              "      <td>0</td>\n",
              "      <td>0</td>\n",
              "      <td>0</td>\n",
              "      <td>0</td>\n",
              "      <td>0</td>\n",
              "      <td>0</td>\n",
              "      <td>0</td>\n",
              "      <td>0</td>\n",
              "      <td>0</td>\n",
              "      <td>0</td>\n",
              "      <td>0</td>\n",
              "      <td>0</td>\n",
              "      <td>1</td>\n",
              "      <td>0</td>\n",
              "      <td>0</td>\n",
              "      <td>0</td>\n",
              "      <td>0</td>\n",
              "      <td>0</td>\n",
              "      <td>6</td>\n",
              "    </tr>\n",
              "  </tbody>\n",
              "</table>\n",
              "</div>"
            ],
            "text/plain": [
              "   Product_P1  Product_P10  ...  DriverCD_C_D3_7  RoutDeliveryOrder\n",
              "0           0            0  ...                0                  2\n",
              "1           0            0  ...                0                  3\n",
              "2           0            0  ...                0                  1\n",
              "3           0            0  ...                0                  3\n",
              "4           0            0  ...                0                  6\n",
              "\n",
              "[5 rows x 69 columns]"
            ]
          },
          "metadata": {
            "tags": []
          },
          "execution_count": 70
        }
      ]
    },
    {
      "cell_type": "markdown",
      "metadata": {
        "id": "gIW-qbYVuGod"
      },
      "source": [
        "## DecisionTreeClassifier e os seus Parâmetros\n",
        "\n",
        "O algoritimo do DecisionTreeClassifier tem a tendência natural de fazer um OVERFITING, para ajustar isso modificamos os parâmetros:\n",
        "\n",
        "* max_depth : Profundidade máxima da árvore\n",
        "* min_samples_split : quantidade mínima de amostras para se dividir um nó\n",
        "* min_samples_leaf : Quantidade mínima de amostras em um nó folha (nó da base da árvore)"
      ]
    },
    {
      "cell_type": "code",
      "metadata": {
        "id": "SqGXSP0R_ku6",
        "colab": {
          "base_uri": "https://localhost:8080/"
        },
        "outputId": "f266543f-e8ef-401e-a5c2-4166178f2f4f"
      },
      "source": [
        "delivery_tree = tree.DecisionTreeClassifier(max_depth = 4, min_samples_split = 2, min_samples_leaf = 1)\n",
        "delivery_tree.fit(var1, stars_class)\n",
        "\n",
        "print(\"Decision tree model saved to delivery_tree!\")\n",
        "print(delivery_tree)\n",
        "print(var1.columns.values)"
      ],
      "execution_count": 71,
      "outputs": [
        {
          "output_type": "stream",
          "text": [
            "Decision tree model saved to delivery_tree!\n",
            "DecisionTreeClassifier(ccp_alpha=0.0, class_weight=None, criterion='gini',\n",
            "                       max_depth=4, max_features=None, max_leaf_nodes=None,\n",
            "                       min_impurity_decrease=0.0, min_impurity_split=None,\n",
            "                       min_samples_leaf=1, min_samples_split=2,\n",
            "                       min_weight_fraction_leaf=0.0, presort='deprecated',\n",
            "                       random_state=None, splitter='best')\n",
            "['Product_P1' 'Product_P10' 'Product_P11' 'Product_P12' 'Product_P13'\n",
            " 'Product_P14' 'Product_P15' 'Product_P2' 'Product_P3' 'Product_P4'\n",
            " 'Product_P5' 'Product_P6' 'Product_P7' 'Product_P8' 'Product_P9'\n",
            " 'Origin_F1' 'Origin_F2' 'Origin_F3' 'Origin_F4' 'CD_name_CD1'\n",
            " 'CD_name_CD2' 'CD_name_CD3' 'Dest_C101' 'Dest_C102' 'Dest_C103'\n",
            " 'Dest_C104' 'Dest_C105' 'Dest_C201' 'Dest_C202' 'Dest_C203' 'Dest_C204'\n",
            " 'Dest_C205' 'Dest_C301' 'Dest_C302' 'Dest_C303' 'Dest_C304' 'Dest_C305'\n",
            " 'TruckType_SemiTrailler' 'TruckType_Truck' 'FloorCD_0' 'FloorCD_1'\n",
            " 'FloorCD_2' 'FloorCD_3' 'FloorCD_4' 'TruckType2_CityDeliveryTruck'\n",
            " 'TruckType2_MiniVan' 'TruckType2_Van' 'DriverCD_C_D1_1' 'DriverCD_C_D1_2'\n",
            " 'DriverCD_C_D1_3' 'DriverCD_C_D1_4' 'DriverCD_C_D1_5' 'DriverCD_C_D1_6'\n",
            " 'DriverCD_C_D1_7' 'DriverCD_C_D2_1' 'DriverCD_C_D2_2' 'DriverCD_C_D2_3'\n",
            " 'DriverCD_C_D2_4' 'DriverCD_C_D2_5' 'DriverCD_C_D2_6' 'DriverCD_C_D2_7'\n",
            " 'DriverCD_C_D3_1' 'DriverCD_C_D3_2' 'DriverCD_C_D3_3' 'DriverCD_C_D3_4'\n",
            " 'DriverCD_C_D3_5' 'DriverCD_C_D3_6' 'DriverCD_C_D3_7' 'RoutDeliveryOrder']\n"
          ],
          "name": "stdout"
        }
      ]
    },
    {
      "cell_type": "markdown",
      "metadata": {
        "id": "CyLSxHbxur6Y"
      },
      "source": [
        "# Resultados em formato gráfico são sempre melhores ;)"
      ]
    },
    {
      "cell_type": "code",
      "metadata": {
        "colab": {
          "base_uri": "https://localhost:8080/",
          "height": 777
        },
        "id": "_4lp-QBX6Ue4",
        "outputId": "e1914292-5a68-418e-a110-09b792ca7c09"
      },
      "source": [
        "export_graphviz(delivery_tree,\n",
        "                feature_names=list(var1.columns.values),\n",
        "                out_file=\"delivery_tree.dot\",\n",
        "                class_names=np.unique(stars_class.astype(str)),\n",
        "                filled=True,\n",
        "                rounded=True,\n",
        "                node_ids=True,\n",
        "                special_characters=True,\n",
        "                impurity=False,\n",
        "                label=\"all\",\n",
        "                leaves_parallel = False)\n",
        "\n",
        "with open(\"delivery_tree.dot\") as delivery_tree_image:\n",
        "    delivery_tree_graph = delivery_tree_image.read()\n",
        "graphviz.Source(delivery_tree_graph)"
      ],
      "execution_count": 72,
      "outputs": [
        {
          "output_type": "execute_result",
          "data": {
            "text/plain": [
              "<graphviz.files.Source at 0x7f327570f790>"
            ],
            "image/svg+xml": "<?xml version=\"1.0\" encoding=\"UTF-8\" standalone=\"no\"?>\n<!DOCTYPE svg PUBLIC \"-//W3C//DTD SVG 1.1//EN\"\n \"http://www.w3.org/Graphics/SVG/1.1/DTD/svg11.dtd\">\n<!-- Generated by graphviz version 2.40.1 (20161225.0304)\n -->\n<!-- Title: Tree Pages: 1 -->\n<svg width=\"2429pt\" height=\"552pt\"\n viewBox=\"0.00 0.00 2429.00 552.00\" xmlns=\"http://www.w3.org/2000/svg\" xmlns:xlink=\"http://www.w3.org/1999/xlink\">\n<g id=\"graph0\" class=\"graph\" transform=\"scale(1 1) rotate(0) translate(4 548)\">\n<title>Tree</title>\n<polygon fill=\"#ffffff\" stroke=\"transparent\" points=\"-4,4 -4,-548 2425,-548 2425,4 -4,4\"/>\n<!-- 0 -->\n<g id=\"node1\" class=\"node\">\n<title>0</title>\n<path fill=\"#fcfafe\" stroke=\"#000000\" d=\"M1358,-544C1358,-544 1193,-544 1193,-544 1187,-544 1181,-538 1181,-532 1181,-532 1181,-473 1181,-473 1181,-467 1187,-461 1193,-461 1193,-461 1358,-461 1358,-461 1364,-461 1370,-467 1370,-473 1370,-473 1370,-532 1370,-532 1370,-538 1364,-544 1358,-544\"/>\n<text text-anchor=\"start\" x=\"1248.5\" y=\"-528.8\" font-family=\"Helvetica,sans-Serif\" font-size=\"14.00\" fill=\"#000000\">node #0</text>\n<text text-anchor=\"start\" x=\"1219.5\" y=\"-513.8\" font-family=\"Helvetica,sans-Serif\" font-size=\"14.00\" fill=\"#000000\">Product_P1 ≤ 0.5</text>\n<text text-anchor=\"start\" x=\"1223.5\" y=\"-498.8\" font-family=\"Helvetica,sans-Serif\" font-size=\"14.00\" fill=\"#000000\">samples = 6140</text>\n<text text-anchor=\"start\" x=\"1189\" y=\"-483.8\" font-family=\"Helvetica,sans-Serif\" font-size=\"14.00\" fill=\"#000000\">value = [1372, 2334, 2434]</text>\n<text text-anchor=\"start\" x=\"1234\" y=\"-468.8\" font-family=\"Helvetica,sans-Serif\" font-size=\"14.00\" fill=\"#000000\">class = good</text>\n</g>\n<!-- 1 -->\n<g id=\"node2\" class=\"node\">\n<title>1</title>\n<path fill=\"#fcfffd\" stroke=\"#000000\" d=\"M1077,-425C1077,-425 912,-425 912,-425 906,-425 900,-419 900,-413 900,-413 900,-354 900,-354 900,-348 906,-342 912,-342 912,-342 1077,-342 1077,-342 1083,-342 1089,-348 1089,-354 1089,-354 1089,-413 1089,-413 1089,-419 1083,-425 1077,-425\"/>\n<text text-anchor=\"start\" x=\"967.5\" y=\"-409.8\" font-family=\"Helvetica,sans-Serif\" font-size=\"14.00\" fill=\"#000000\">node #1</text>\n<text text-anchor=\"start\" x=\"938.5\" y=\"-394.8\" font-family=\"Helvetica,sans-Serif\" font-size=\"14.00\" fill=\"#000000\">Product_P7 ≤ 0.5</text>\n<text text-anchor=\"start\" x=\"942.5\" y=\"-379.8\" font-family=\"Helvetica,sans-Serif\" font-size=\"14.00\" fill=\"#000000\">samples = 5762</text>\n<text text-anchor=\"start\" x=\"908\" y=\"-364.8\" font-family=\"Helvetica,sans-Serif\" font-size=\"14.00\" fill=\"#000000\">value = [1256, 2282, 2224]</text>\n<text text-anchor=\"start\" x=\"957\" y=\"-349.8\" font-family=\"Helvetica,sans-Serif\" font-size=\"14.00\" fill=\"#000000\">class = bad</text>\n</g>\n<!-- 0&#45;&gt;1 -->\n<g id=\"edge1\" class=\"edge\">\n<title>0&#45;&gt;1</title>\n<path fill=\"none\" stroke=\"#000000\" d=\"M1180.758,-462.3779C1154.3906,-451.2117 1125.6096,-439.0233 1098.7299,-427.6401\"/>\n<polygon fill=\"#000000\" stroke=\"#000000\" points=\"1099.8818,-424.327 1089.3086,-423.6503 1097.152,-430.7728 1099.8818,-424.327\"/>\n<text text-anchor=\"middle\" x=\"1098.6931\" y=\"-443.122\" font-family=\"Helvetica,sans-Serif\" font-size=\"14.00\" fill=\"#000000\">True</text>\n</g>\n<!-- 16 -->\n<g id=\"node17\" class=\"node\">\n<title>16</title>\n<path fill=\"#d2b8f6\" stroke=\"#000000\" d=\"M1669.5,-425C1669.5,-425 1537.5,-425 1537.5,-425 1531.5,-425 1525.5,-419 1525.5,-413 1525.5,-413 1525.5,-354 1525.5,-354 1525.5,-348 1531.5,-342 1537.5,-342 1537.5,-342 1669.5,-342 1669.5,-342 1675.5,-342 1681.5,-348 1681.5,-354 1681.5,-354 1681.5,-413 1681.5,-413 1681.5,-419 1675.5,-425 1669.5,-425\"/>\n<text text-anchor=\"start\" x=\"1572.5\" y=\"-409.8\" font-family=\"Helvetica,sans-Serif\" font-size=\"14.00\" fill=\"#000000\">node #16</text>\n<text text-anchor=\"start\" x=\"1550.5\" y=\"-394.8\" font-family=\"Helvetica,sans-Serif\" font-size=\"14.00\" fill=\"#000000\">FloorCD_0 ≤ 0.5</text>\n<text text-anchor=\"start\" x=\"1555.5\" y=\"-379.8\" font-family=\"Helvetica,sans-Serif\" font-size=\"14.00\" fill=\"#000000\">samples = 378</text>\n<text text-anchor=\"start\" x=\"1533.5\" y=\"-364.8\" font-family=\"Helvetica,sans-Serif\" font-size=\"14.00\" fill=\"#000000\">value = [116, 52, 210]</text>\n<text text-anchor=\"start\" x=\"1562\" y=\"-349.8\" font-family=\"Helvetica,sans-Serif\" font-size=\"14.00\" fill=\"#000000\">class = good</text>\n</g>\n<!-- 0&#45;&gt;16 -->\n<g id=\"edge16\" class=\"edge\">\n<title>0&#45;&gt;16</title>\n<path fill=\"none\" stroke=\"#000000\" d=\"M1370.3712,-468.0803C1416.2968,-451.4182 1471.075,-431.5444 1515.9897,-415.2492\"/>\n<polygon fill=\"#000000\" stroke=\"#000000\" points=\"1517.2109,-418.5294 1525.4176,-411.8287 1514.8234,-411.9491 1517.2109,-418.5294\"/>\n<text text-anchor=\"middle\" x=\"1514.8288\" y=\"-430.7755\" font-family=\"Helvetica,sans-Serif\" font-size=\"14.00\" fill=\"#000000\">False</text>\n</g>\n<!-- 2 -->\n<g id=\"node3\" class=\"node\">\n<title>2</title>\n<path fill=\"#fdfcff\" stroke=\"#000000\" d=\"M622,-306C622,-306 457,-306 457,-306 451,-306 445,-300 445,-294 445,-294 445,-235 445,-235 445,-229 451,-223 457,-223 457,-223 622,-223 622,-223 628,-223 634,-229 634,-235 634,-235 634,-294 634,-294 634,-300 628,-306 622,-306\"/>\n<text text-anchor=\"start\" x=\"512.5\" y=\"-290.8\" font-family=\"Helvetica,sans-Serif\" font-size=\"14.00\" fill=\"#000000\">node #2</text>\n<text text-anchor=\"start\" x=\"483.5\" y=\"-275.8\" font-family=\"Helvetica,sans-Serif\" font-size=\"14.00\" fill=\"#000000\">Product_P3 ≤ 0.5</text>\n<text text-anchor=\"start\" x=\"487.5\" y=\"-260.8\" font-family=\"Helvetica,sans-Serif\" font-size=\"14.00\" fill=\"#000000\">samples = 5282</text>\n<text text-anchor=\"start\" x=\"453\" y=\"-245.8\" font-family=\"Helvetica,sans-Serif\" font-size=\"14.00\" fill=\"#000000\">value = [1178, 2028, 2076]</text>\n<text text-anchor=\"start\" x=\"498\" y=\"-230.8\" font-family=\"Helvetica,sans-Serif\" font-size=\"14.00\" fill=\"#000000\">class = good</text>\n</g>\n<!-- 1&#45;&gt;2 -->\n<g id=\"edge2\" class=\"edge\">\n<title>1&#45;&gt;2</title>\n<path fill=\"none\" stroke=\"#000000\" d=\"M899.9475,-358.7709C825.2895,-339.245 721.2041,-312.0226 644.0671,-291.8483\"/>\n<polygon fill=\"#000000\" stroke=\"#000000\" points=\"644.8823,-288.4439 634.322,-289.2996 643.111,-295.2161 644.8823,-288.4439\"/>\n</g>\n<!-- 9 -->\n<g id=\"node10\" class=\"node\">\n<title>9</title>\n<path fill=\"#c0f7d7\" stroke=\"#000000\" d=\"M1068.5,-306C1068.5,-306 920.5,-306 920.5,-306 914.5,-306 908.5,-300 908.5,-294 908.5,-294 908.5,-235 908.5,-235 908.5,-229 914.5,-223 920.5,-223 920.5,-223 1068.5,-223 1068.5,-223 1074.5,-223 1080.5,-229 1080.5,-235 1080.5,-235 1080.5,-294 1080.5,-294 1080.5,-300 1074.5,-306 1068.5,-306\"/>\n<text text-anchor=\"start\" x=\"967.5\" y=\"-290.8\" font-family=\"Helvetica,sans-Serif\" font-size=\"14.00\" fill=\"#000000\">node #9</text>\n<text text-anchor=\"start\" x=\"916.5\" y=\"-275.8\" font-family=\"Helvetica,sans-Serif\" font-size=\"14.00\" fill=\"#000000\">RoutDeliveryOrder ≤ 4.5</text>\n<text text-anchor=\"start\" x=\"946.5\" y=\"-260.8\" font-family=\"Helvetica,sans-Serif\" font-size=\"14.00\" fill=\"#000000\">samples = 480</text>\n<text text-anchor=\"start\" x=\"924.5\" y=\"-245.8\" font-family=\"Helvetica,sans-Serif\" font-size=\"14.00\" fill=\"#000000\">value = [78, 254, 148]</text>\n<text text-anchor=\"start\" x=\"957\" y=\"-230.8\" font-family=\"Helvetica,sans-Serif\" font-size=\"14.00\" fill=\"#000000\">class = bad</text>\n</g>\n<!-- 1&#45;&gt;9 -->\n<g id=\"edge9\" class=\"edge\">\n<title>1&#45;&gt;9</title>\n<path fill=\"none\" stroke=\"#000000\" d=\"M994.5,-341.8796C994.5,-333.6838 994.5,-324.9891 994.5,-316.5013\"/>\n<polygon fill=\"#000000\" stroke=\"#000000\" points=\"998.0001,-316.298 994.5,-306.2981 991.0001,-316.2981 998.0001,-316.298\"/>\n</g>\n<!-- 3 -->\n<g id=\"node4\" class=\"node\">\n<title>3</title>\n<path fill=\"#fcfbfe\" stroke=\"#000000\" d=\"M356,-187C356,-187 191,-187 191,-187 185,-187 179,-181 179,-175 179,-175 179,-116 179,-116 179,-110 185,-104 191,-104 191,-104 356,-104 356,-104 362,-104 368,-110 368,-116 368,-116 368,-175 368,-175 368,-181 362,-187 356,-187\"/>\n<text text-anchor=\"start\" x=\"246.5\" y=\"-171.8\" font-family=\"Helvetica,sans-Serif\" font-size=\"14.00\" fill=\"#000000\">node #3</text>\n<text text-anchor=\"start\" x=\"219\" y=\"-156.8\" font-family=\"Helvetica,sans-Serif\" font-size=\"14.00\" fill=\"#000000\">Dest_C205 ≤ 0.5</text>\n<text text-anchor=\"start\" x=\"221.5\" y=\"-141.8\" font-family=\"Helvetica,sans-Serif\" font-size=\"14.00\" fill=\"#000000\">samples = 4912</text>\n<text text-anchor=\"start\" x=\"187\" y=\"-126.8\" font-family=\"Helvetica,sans-Serif\" font-size=\"14.00\" fill=\"#000000\">value = [1062, 1892, 1958]</text>\n<text text-anchor=\"start\" x=\"232\" y=\"-111.8\" font-family=\"Helvetica,sans-Serif\" font-size=\"14.00\" fill=\"#000000\">class = good</text>\n</g>\n<!-- 2&#45;&gt;3 -->\n<g id=\"edge3\" class=\"edge\">\n<title>2&#45;&gt;3</title>\n<path fill=\"none\" stroke=\"#000000\" d=\"M446.4661,-222.8796C423.585,-212.6433 398.964,-201.6286 375.6772,-191.2108\"/>\n<polygon fill=\"#000000\" stroke=\"#000000\" points=\"377.0389,-187.9858 366.4814,-187.0969 374.1803,-194.3755 377.0389,-187.9858\"/>\n</g>\n<!-- 6 -->\n<g id=\"node7\" class=\"node\">\n<title>6</title>\n<path fill=\"#f1fdf6\" stroke=\"#000000\" d=\"M609.5,-187C609.5,-187 469.5,-187 469.5,-187 463.5,-187 457.5,-181 457.5,-175 457.5,-175 457.5,-116 457.5,-116 457.5,-110 463.5,-104 469.5,-104 469.5,-104 609.5,-104 609.5,-104 615.5,-104 621.5,-110 621.5,-116 621.5,-116 621.5,-175 621.5,-175 621.5,-181 615.5,-187 609.5,-187\"/>\n<text text-anchor=\"start\" x=\"512.5\" y=\"-171.8\" font-family=\"Helvetica,sans-Serif\" font-size=\"14.00\" fill=\"#000000\">node #6</text>\n<text text-anchor=\"start\" x=\"485\" y=\"-156.8\" font-family=\"Helvetica,sans-Serif\" font-size=\"14.00\" fill=\"#000000\">Dest_C304 ≤ 0.5</text>\n<text text-anchor=\"start\" x=\"491.5\" y=\"-141.8\" font-family=\"Helvetica,sans-Serif\" font-size=\"14.00\" fill=\"#000000\">samples = 370</text>\n<text text-anchor=\"start\" x=\"465.5\" y=\"-126.8\" font-family=\"Helvetica,sans-Serif\" font-size=\"14.00\" fill=\"#000000\">value = [116, 136, 118]</text>\n<text text-anchor=\"start\" x=\"502\" y=\"-111.8\" font-family=\"Helvetica,sans-Serif\" font-size=\"14.00\" fill=\"#000000\">class = bad</text>\n</g>\n<!-- 2&#45;&gt;6 -->\n<g id=\"edge6\" class=\"edge\">\n<title>2&#45;&gt;6</title>\n<path fill=\"none\" stroke=\"#000000\" d=\"M539.5,-222.8796C539.5,-214.6838 539.5,-205.9891 539.5,-197.5013\"/>\n<polygon fill=\"#000000\" stroke=\"#000000\" points=\"543.0001,-197.298 539.5,-187.2981 536.0001,-197.2981 543.0001,-197.298\"/>\n</g>\n<!-- 4 -->\n<g id=\"node5\" class=\"node\">\n<title>4</title>\n<path fill=\"#fefeff\" stroke=\"#000000\" d=\"M169,-68C169,-68 12,-68 12,-68 6,-68 0,-62 0,-56 0,-56 0,-12 0,-12 0,-6 6,0 12,0 12,0 169,0 169,0 175,0 181,-6 181,-12 181,-12 181,-56 181,-56 181,-62 175,-68 169,-68\"/>\n<text text-anchor=\"start\" x=\"63.5\" y=\"-52.8\" font-family=\"Helvetica,sans-Serif\" font-size=\"14.00\" fill=\"#000000\">node #4</text>\n<text text-anchor=\"start\" x=\"38.5\" y=\"-37.8\" font-family=\"Helvetica,sans-Serif\" font-size=\"14.00\" fill=\"#000000\">samples = 4608</text>\n<text text-anchor=\"start\" x=\"8\" y=\"-22.8\" font-family=\"Helvetica,sans-Serif\" font-size=\"14.00\" fill=\"#000000\">value = [996, 1800, 1812]</text>\n<text text-anchor=\"start\" x=\"49\" y=\"-7.8\" font-family=\"Helvetica,sans-Serif\" font-size=\"14.00\" fill=\"#000000\">class = good</text>\n</g>\n<!-- 3&#45;&gt;4 -->\n<g id=\"edge4\" class=\"edge\">\n<title>3&#45;&gt;4</title>\n<path fill=\"none\" stroke=\"#000000\" d=\"M205.3576,-103.9815C188.9808,-94.0034 171.5343,-83.3733 155.3138,-73.4904\"/>\n<polygon fill=\"#000000\" stroke=\"#000000\" points=\"156.8041,-70.2999 146.4432,-68.0856 153.1618,-76.2778 156.8041,-70.2999\"/>\n</g>\n<!-- 5 -->\n<g id=\"node6\" class=\"node\">\n<title>5</title>\n<path fill=\"#dfcdf8\" stroke=\"#000000\" d=\"M335.5,-68C335.5,-68 211.5,-68 211.5,-68 205.5,-68 199.5,-62 199.5,-56 199.5,-56 199.5,-12 199.5,-12 199.5,-6 205.5,0 211.5,0 211.5,0 335.5,0 335.5,0 341.5,0 347.5,-6 347.5,-12 347.5,-12 347.5,-56 347.5,-56 347.5,-62 341.5,-68 335.5,-68\"/>\n<text text-anchor=\"start\" x=\"246.5\" y=\"-52.8\" font-family=\"Helvetica,sans-Serif\" font-size=\"14.00\" fill=\"#000000\">node #5</text>\n<text text-anchor=\"start\" x=\"225.5\" y=\"-37.8\" font-family=\"Helvetica,sans-Serif\" font-size=\"14.00\" fill=\"#000000\">samples = 304</text>\n<text text-anchor=\"start\" x=\"207.5\" y=\"-22.8\" font-family=\"Helvetica,sans-Serif\" font-size=\"14.00\" fill=\"#000000\">value = [66, 92, 146]</text>\n<text text-anchor=\"start\" x=\"232\" y=\"-7.8\" font-family=\"Helvetica,sans-Serif\" font-size=\"14.00\" fill=\"#000000\">class = good</text>\n</g>\n<!-- 3&#45;&gt;5 -->\n<g id=\"edge5\" class=\"edge\">\n<title>3&#45;&gt;5</title>\n<path fill=\"none\" stroke=\"#000000\" d=\"M273.5,-103.9815C273.5,-95.618 273.5,-86.7965 273.5,-78.3409\"/>\n<polygon fill=\"#000000\" stroke=\"#000000\" points=\"277.0001,-78.2636 273.5,-68.2637 270.0001,-78.2637 277.0001,-78.2636\"/>\n</g>\n<!-- 7 -->\n<g id=\"node8\" class=\"node\">\n<title>7</title>\n<path fill=\"#f3fdf7\" stroke=\"#000000\" d=\"M517.5,-68C517.5,-68 377.5,-68 377.5,-68 371.5,-68 365.5,-62 365.5,-56 365.5,-56 365.5,-12 365.5,-12 365.5,-6 371.5,0 377.5,0 377.5,0 517.5,0 517.5,0 523.5,0 529.5,-6 529.5,-12 529.5,-12 529.5,-56 529.5,-56 529.5,-62 523.5,-68 517.5,-68\"/>\n<text text-anchor=\"start\" x=\"420.5\" y=\"-52.8\" font-family=\"Helvetica,sans-Serif\" font-size=\"14.00\" fill=\"#000000\">node #7</text>\n<text text-anchor=\"start\" x=\"399.5\" y=\"-37.8\" font-family=\"Helvetica,sans-Serif\" font-size=\"14.00\" fill=\"#000000\">samples = 350</text>\n<text text-anchor=\"start\" x=\"373.5\" y=\"-22.8\" font-family=\"Helvetica,sans-Serif\" font-size=\"14.00\" fill=\"#000000\">value = [100, 132, 118]</text>\n<text text-anchor=\"start\" x=\"410\" y=\"-7.8\" font-family=\"Helvetica,sans-Serif\" font-size=\"14.00\" fill=\"#000000\">class = bad</text>\n</g>\n<!-- 6&#45;&gt;7 -->\n<g id=\"edge7\" class=\"edge\">\n<title>6&#45;&gt;7</title>\n<path fill=\"none\" stroke=\"#000000\" d=\"M505.2426,-103.9815C497.7351,-94.8828 489.7804,-85.242 482.2536,-76.1199\"/>\n<polygon fill=\"#000000\" stroke=\"#000000\" points=\"484.8354,-73.7495 475.7714,-68.2637 479.4361,-78.2045 484.8354,-73.7495\"/>\n</g>\n<!-- 8 -->\n<g id=\"node9\" class=\"node\">\n<title>8</title>\n<path fill=\"#eca06a\" stroke=\"#000000\" d=\"M659,-68C659,-68 560,-68 560,-68 554,-68 548,-62 548,-56 548,-56 548,-12 548,-12 548,-6 554,0 560,0 560,0 659,0 659,0 665,0 671,-6 671,-12 671,-12 671,-56 671,-56 671,-62 665,-68 659,-68\"/>\n<text text-anchor=\"start\" x=\"582.5\" y=\"-52.8\" font-family=\"Helvetica,sans-Serif\" font-size=\"14.00\" fill=\"#000000\">node #8</text>\n<text text-anchor=\"start\" x=\"565.5\" y=\"-37.8\" font-family=\"Helvetica,sans-Serif\" font-size=\"14.00\" fill=\"#000000\">samples = 20</text>\n<text text-anchor=\"start\" x=\"556\" y=\"-22.8\" font-family=\"Helvetica,sans-Serif\" font-size=\"14.00\" fill=\"#000000\">value = [16, 4, 0]</text>\n<text text-anchor=\"start\" x=\"558\" y=\"-7.8\" font-family=\"Helvetica,sans-Serif\" font-size=\"14.00\" fill=\"#000000\">class = average</text>\n</g>\n<!-- 6&#45;&gt;8 -->\n<g id=\"edge8\" class=\"edge\">\n<title>6&#45;&gt;8</title>\n<path fill=\"none\" stroke=\"#000000\" d=\"M565.5654,-103.9815C571.1045,-95.1585 576.9636,-85.8258 582.5355,-76.9506\"/>\n<polygon fill=\"#000000\" stroke=\"#000000\" points=\"585.6363,-78.594 587.9892,-68.2637 579.7078,-74.872 585.6363,-78.594\"/>\n</g>\n<!-- 10 -->\n<g id=\"node11\" class=\"node\">\n<title>10</title>\n<path fill=\"#f4fef8\" stroke=\"#000000\" d=\"M980,-187C980,-187 831,-187 831,-187 825,-187 819,-181 819,-175 819,-175 819,-116 819,-116 819,-110 825,-104 831,-104 831,-104 980,-104 980,-104 986,-104 992,-110 992,-116 992,-116 992,-175 992,-175 992,-181 986,-187 980,-187\"/>\n<text text-anchor=\"start\" x=\"874.5\" y=\"-171.8\" font-family=\"Helvetica,sans-Serif\" font-size=\"14.00\" fill=\"#000000\">node #10</text>\n<text text-anchor=\"start\" x=\"827\" y=\"-156.8\" font-family=\"Helvetica,sans-Serif\" font-size=\"14.00\" fill=\"#000000\">DriverCD_C_D3_5 ≤ 0.5</text>\n<text text-anchor=\"start\" x=\"857.5\" y=\"-141.8\" font-family=\"Helvetica,sans-Serif\" font-size=\"14.00\" fill=\"#000000\">samples = 292</text>\n<text text-anchor=\"start\" x=\"835.5\" y=\"-126.8\" font-family=\"Helvetica,sans-Serif\" font-size=\"14.00\" fill=\"#000000\">value = [62, 120, 110]</text>\n<text text-anchor=\"start\" x=\"868\" y=\"-111.8\" font-family=\"Helvetica,sans-Serif\" font-size=\"14.00\" fill=\"#000000\">class = bad</text>\n</g>\n<!-- 9&#45;&gt;10 -->\n<g id=\"edge10\" class=\"edge\">\n<title>9&#45;&gt;10</title>\n<path fill=\"none\" stroke=\"#000000\" d=\"M963.3721,-222.8796C956.771,-214.0534 949.7371,-204.6485 942.9298,-195.5466\"/>\n<polygon fill=\"#000000\" stroke=\"#000000\" points=\"945.5528,-193.2099 936.7607,-187.2981 939.9472,-197.4024 945.5528,-193.2099\"/>\n</g>\n<!-- 13 -->\n<g id=\"node14\" class=\"node\">\n<title>13</title>\n<path fill=\"#80eeae\" stroke=\"#000000\" d=\"M1146.5,-187C1146.5,-187 1022.5,-187 1022.5,-187 1016.5,-187 1010.5,-181 1010.5,-175 1010.5,-175 1010.5,-116 1010.5,-116 1010.5,-110 1016.5,-104 1022.5,-104 1022.5,-104 1146.5,-104 1146.5,-104 1152.5,-104 1158.5,-110 1158.5,-116 1158.5,-116 1158.5,-175 1158.5,-175 1158.5,-181 1152.5,-187 1146.5,-187\"/>\n<text text-anchor=\"start\" x=\"1053.5\" y=\"-171.8\" font-family=\"Helvetica,sans-Serif\" font-size=\"14.00\" fill=\"#000000\">node #13</text>\n<text text-anchor=\"start\" x=\"1031.5\" y=\"-156.8\" font-family=\"Helvetica,sans-Serif\" font-size=\"14.00\" fill=\"#000000\">FloorCD_0 ≤ 0.5</text>\n<text text-anchor=\"start\" x=\"1036.5\" y=\"-141.8\" font-family=\"Helvetica,sans-Serif\" font-size=\"14.00\" fill=\"#000000\">samples = 188</text>\n<text text-anchor=\"start\" x=\"1018.5\" y=\"-126.8\" font-family=\"Helvetica,sans-Serif\" font-size=\"14.00\" fill=\"#000000\">value = [16, 134, 38]</text>\n<text text-anchor=\"start\" x=\"1047\" y=\"-111.8\" font-family=\"Helvetica,sans-Serif\" font-size=\"14.00\" fill=\"#000000\">class = bad</text>\n</g>\n<!-- 9&#45;&gt;13 -->\n<g id=\"edge13\" class=\"edge\">\n<title>9&#45;&gt;13</title>\n<path fill=\"none\" stroke=\"#000000\" d=\"M1025.9776,-222.8796C1032.6529,-214.0534 1039.7658,-204.6485 1046.6496,-195.5466\"/>\n<polygon fill=\"#000000\" stroke=\"#000000\" points=\"1049.6474,-197.3852 1052.888,-187.2981 1044.0643,-193.1626 1049.6474,-197.3852\"/>\n</g>\n<!-- 11 -->\n<g id=\"node12\" class=\"node\">\n<title>11</title>\n<path fill=\"#e9fcf1\" stroke=\"#000000\" d=\"M825.5,-68C825.5,-68 701.5,-68 701.5,-68 695.5,-68 689.5,-62 689.5,-56 689.5,-56 689.5,-12 689.5,-12 689.5,-6 695.5,0 701.5,0 701.5,0 825.5,0 825.5,0 831.5,0 837.5,-6 837.5,-12 837.5,-12 837.5,-56 837.5,-56 837.5,-62 831.5,-68 825.5,-68\"/>\n<text text-anchor=\"start\" x=\"732.5\" y=\"-52.8\" font-family=\"Helvetica,sans-Serif\" font-size=\"14.00\" fill=\"#000000\">node #11</text>\n<text text-anchor=\"start\" x=\"715.5\" y=\"-37.8\" font-family=\"Helvetica,sans-Serif\" font-size=\"14.00\" fill=\"#000000\">samples = 278</text>\n<text text-anchor=\"start\" x=\"697.5\" y=\"-22.8\" font-family=\"Helvetica,sans-Serif\" font-size=\"14.00\" fill=\"#000000\">value = [62, 118, 98]</text>\n<text text-anchor=\"start\" x=\"726\" y=\"-7.8\" font-family=\"Helvetica,sans-Serif\" font-size=\"14.00\" fill=\"#000000\">class = bad</text>\n</g>\n<!-- 10&#45;&gt;11 -->\n<g id=\"edge11\" class=\"edge\">\n<title>10&#45;&gt;11</title>\n<path fill=\"none\" stroke=\"#000000\" d=\"M852.6244,-103.9815C840.3345,-94.3313 827.2681,-84.0714 815.0368,-74.4673\"/>\n<polygon fill=\"#000000\" stroke=\"#000000\" points=\"817.1629,-71.6867 807.1362,-68.2637 812.8398,-77.1923 817.1629,-71.6867\"/>\n</g>\n<!-- 12 -->\n<g id=\"node13\" class=\"node\">\n<title>12</title>\n<path fill=\"#965ae9\" stroke=\"#000000\" d=\"M967,-68C967,-68 868,-68 868,-68 862,-68 856,-62 856,-56 856,-56 856,-12 856,-12 856,-6 862,0 868,0 868,0 967,0 967,0 973,0 979,-6 979,-12 979,-12 979,-56 979,-56 979,-62 973,-68 967,-68\"/>\n<text text-anchor=\"start\" x=\"886.5\" y=\"-52.8\" font-family=\"Helvetica,sans-Serif\" font-size=\"14.00\" fill=\"#000000\">node #12</text>\n<text text-anchor=\"start\" x=\"873.5\" y=\"-37.8\" font-family=\"Helvetica,sans-Serif\" font-size=\"14.00\" fill=\"#000000\">samples = 14</text>\n<text text-anchor=\"start\" x=\"864\" y=\"-22.8\" font-family=\"Helvetica,sans-Serif\" font-size=\"14.00\" fill=\"#000000\">value = [0, 2, 12]</text>\n<text text-anchor=\"start\" x=\"876\" y=\"-7.8\" font-family=\"Helvetica,sans-Serif\" font-size=\"14.00\" fill=\"#000000\">class = good</text>\n</g>\n<!-- 10&#45;&gt;12 -->\n<g id=\"edge12\" class=\"edge\">\n<title>10&#45;&gt;12</title>\n<path fill=\"none\" stroke=\"#000000\" d=\"M909.9684,-103.9815C910.8685,-95.618 911.8179,-86.7965 912.7279,-78.3409\"/>\n<polygon fill=\"#000000\" stroke=\"#000000\" points=\"916.2222,-78.5808 913.8124,-68.2637 909.2624,-77.8317 916.2222,-78.5808\"/>\n</g>\n<!-- 14 -->\n<g id=\"node15\" class=\"node\">\n<title>14</title>\n<path fill=\"#60ea9a\" stroke=\"#000000\" d=\"M1133.5,-68C1133.5,-68 1009.5,-68 1009.5,-68 1003.5,-68 997.5,-62 997.5,-56 997.5,-56 997.5,-12 997.5,-12 997.5,-6 1003.5,0 1009.5,0 1009.5,0 1133.5,0 1133.5,0 1139.5,0 1145.5,-6 1145.5,-12 1145.5,-12 1145.5,-56 1145.5,-56 1145.5,-62 1139.5,-68 1133.5,-68\"/>\n<text text-anchor=\"start\" x=\"1040.5\" y=\"-52.8\" font-family=\"Helvetica,sans-Serif\" font-size=\"14.00\" fill=\"#000000\">node #14</text>\n<text text-anchor=\"start\" x=\"1023.5\" y=\"-37.8\" font-family=\"Helvetica,sans-Serif\" font-size=\"14.00\" fill=\"#000000\">samples = 160</text>\n<text text-anchor=\"start\" x=\"1005.5\" y=\"-22.8\" font-family=\"Helvetica,sans-Serif\" font-size=\"14.00\" fill=\"#000000\">value = [12, 132, 16]</text>\n<text text-anchor=\"start\" x=\"1034\" y=\"-7.8\" font-family=\"Helvetica,sans-Serif\" font-size=\"14.00\" fill=\"#000000\">class = bad</text>\n</g>\n<!-- 13&#45;&gt;14 -->\n<g id=\"edge14\" class=\"edge\">\n<title>13&#45;&gt;14</title>\n<path fill=\"none\" stroke=\"#000000\" d=\"M1079.6593,-103.9815C1078.6842,-95.618 1077.6557,-86.7965 1076.6698,-78.3409\"/>\n<polygon fill=\"#000000\" stroke=\"#000000\" points=\"1080.1295,-77.791 1075.4949,-68.2637 1073.1766,-78.6017 1080.1295,-77.791\"/>\n</g>\n<!-- 15 -->\n<g id=\"node16\" class=\"node\">\n<title>15</title>\n<path fill=\"#a06bec\" stroke=\"#000000\" d=\"M1275,-68C1275,-68 1176,-68 1176,-68 1170,-68 1164,-62 1164,-56 1164,-56 1164,-12 1164,-12 1164,-6 1170,0 1176,0 1176,0 1275,0 1275,0 1281,0 1287,-6 1287,-12 1287,-12 1287,-56 1287,-56 1287,-62 1281,-68 1275,-68\"/>\n<text text-anchor=\"start\" x=\"1194.5\" y=\"-52.8\" font-family=\"Helvetica,sans-Serif\" font-size=\"14.00\" fill=\"#000000\">node #15</text>\n<text text-anchor=\"start\" x=\"1181.5\" y=\"-37.8\" font-family=\"Helvetica,sans-Serif\" font-size=\"14.00\" fill=\"#000000\">samples = 28</text>\n<text text-anchor=\"start\" x=\"1172\" y=\"-22.8\" font-family=\"Helvetica,sans-Serif\" font-size=\"14.00\" fill=\"#000000\">value = [4, 2, 22]</text>\n<text text-anchor=\"start\" x=\"1184\" y=\"-7.8\" font-family=\"Helvetica,sans-Serif\" font-size=\"14.00\" fill=\"#000000\">class = good</text>\n</g>\n<!-- 13&#45;&gt;15 -->\n<g id=\"edge15\" class=\"edge\">\n<title>13&#45;&gt;15</title>\n<path fill=\"none\" stroke=\"#000000\" d=\"M1137.0032,-103.9815C1149.2066,-94.3313 1162.181,-84.0714 1174.3261,-74.4673\"/>\n<polygon fill=\"#000000\" stroke=\"#000000\" points=\"1176.4982,-77.2118 1182.171,-68.2637 1172.1562,-71.7211 1176.4982,-77.2118\"/>\n</g>\n<!-- 17 -->\n<g id=\"node18\" class=\"node\">\n<title>17</title>\n<path fill=\"#e7d9fa\" stroke=\"#000000\" d=\"M1669.5,-306C1669.5,-306 1537.5,-306 1537.5,-306 1531.5,-306 1525.5,-300 1525.5,-294 1525.5,-294 1525.5,-235 1525.5,-235 1525.5,-229 1531.5,-223 1537.5,-223 1537.5,-223 1669.5,-223 1669.5,-223 1675.5,-223 1681.5,-229 1681.5,-235 1681.5,-235 1681.5,-294 1681.5,-294 1681.5,-300 1675.5,-306 1669.5,-306\"/>\n<text text-anchor=\"start\" x=\"1572.5\" y=\"-290.8\" font-family=\"Helvetica,sans-Serif\" font-size=\"14.00\" fill=\"#000000\">node #17</text>\n<text text-anchor=\"start\" x=\"1549\" y=\"-275.8\" font-family=\"Helvetica,sans-Serif\" font-size=\"14.00\" fill=\"#000000\">Dest_C204 ≤ 0.5</text>\n<text text-anchor=\"start\" x=\"1555.5\" y=\"-260.8\" font-family=\"Helvetica,sans-Serif\" font-size=\"14.00\" fill=\"#000000\">samples = 280</text>\n<text text-anchor=\"start\" x=\"1533.5\" y=\"-245.8\" font-family=\"Helvetica,sans-Serif\" font-size=\"14.00\" fill=\"#000000\">value = [102, 42, 136]</text>\n<text text-anchor=\"start\" x=\"1562\" y=\"-230.8\" font-family=\"Helvetica,sans-Serif\" font-size=\"14.00\" fill=\"#000000\">class = good</text>\n</g>\n<!-- 16&#45;&gt;17 -->\n<g id=\"edge17\" class=\"edge\">\n<title>16&#45;&gt;17</title>\n<path fill=\"none\" stroke=\"#000000\" d=\"M1603.5,-341.8796C1603.5,-333.6838 1603.5,-324.9891 1603.5,-316.5013\"/>\n<polygon fill=\"#000000\" stroke=\"#000000\" points=\"1607.0001,-316.298 1603.5,-306.2981 1600.0001,-316.2981 1607.0001,-316.298\"/>\n</g>\n<!-- 24 -->\n<g id=\"node25\" class=\"node\">\n<title>24</title>\n<path fill=\"#a572ec\" stroke=\"#000000\" d=\"M2083,-306C2083,-306 1934,-306 1934,-306 1928,-306 1922,-300 1922,-294 1922,-294 1922,-235 1922,-235 1922,-229 1928,-223 1934,-223 1934,-223 2083,-223 2083,-223 2089,-223 2095,-229 2095,-235 2095,-235 2095,-294 2095,-294 2095,-300 2089,-306 2083,-306\"/>\n<text text-anchor=\"start\" x=\"1977.5\" y=\"-290.8\" font-family=\"Helvetica,sans-Serif\" font-size=\"14.00\" fill=\"#000000\">node #24</text>\n<text text-anchor=\"start\" x=\"1930\" y=\"-275.8\" font-family=\"Helvetica,sans-Serif\" font-size=\"14.00\" fill=\"#000000\">DriverCD_C_D2_3 ≤ 0.5</text>\n<text text-anchor=\"start\" x=\"1964.5\" y=\"-260.8\" font-family=\"Helvetica,sans-Serif\" font-size=\"14.00\" fill=\"#000000\">samples = 98</text>\n<text text-anchor=\"start\" x=\"1946.5\" y=\"-245.8\" font-family=\"Helvetica,sans-Serif\" font-size=\"14.00\" fill=\"#000000\">value = [14, 10, 74]</text>\n<text text-anchor=\"start\" x=\"1967\" y=\"-230.8\" font-family=\"Helvetica,sans-Serif\" font-size=\"14.00\" fill=\"#000000\">class = good</text>\n</g>\n<!-- 16&#45;&gt;24 -->\n<g id=\"edge24\" class=\"edge\">\n<title>16&#45;&gt;24</title>\n<path fill=\"none\" stroke=\"#000000\" d=\"M1681.5881,-360.5556C1747.3386,-341.2363 1841.6597,-313.5222 1912.1051,-292.8234\"/>\n<polygon fill=\"#000000\" stroke=\"#000000\" points=\"1913.2737,-296.1281 1921.8814,-289.9509 1911.3002,-289.412 1913.2737,-296.1281\"/>\n</g>\n<!-- 18 -->\n<g id=\"node19\" class=\"node\">\n<title>18</title>\n<path fill=\"#eee4fc\" stroke=\"#000000\" d=\"M1583,-187C1583,-187 1434,-187 1434,-187 1428,-187 1422,-181 1422,-175 1422,-175 1422,-116 1422,-116 1422,-110 1428,-104 1434,-104 1434,-104 1583,-104 1583,-104 1589,-104 1595,-110 1595,-116 1595,-116 1595,-175 1595,-175 1595,-181 1589,-187 1583,-187\"/>\n<text text-anchor=\"start\" x=\"1477.5\" y=\"-171.8\" font-family=\"Helvetica,sans-Serif\" font-size=\"14.00\" fill=\"#000000\">node #18</text>\n<text text-anchor=\"start\" x=\"1430\" y=\"-156.8\" font-family=\"Helvetica,sans-Serif\" font-size=\"14.00\" fill=\"#000000\">DriverCD_C_D2_3 ≤ 0.5</text>\n<text text-anchor=\"start\" x=\"1460.5\" y=\"-141.8\" font-family=\"Helvetica,sans-Serif\" font-size=\"14.00\" fill=\"#000000\">samples = 266</text>\n<text text-anchor=\"start\" x=\"1438.5\" y=\"-126.8\" font-family=\"Helvetica,sans-Serif\" font-size=\"14.00\" fill=\"#000000\">value = [102, 40, 124]</text>\n<text text-anchor=\"start\" x=\"1467\" y=\"-111.8\" font-family=\"Helvetica,sans-Serif\" font-size=\"14.00\" fill=\"#000000\">class = good</text>\n</g>\n<!-- 17&#45;&gt;18 -->\n<g id=\"edge18\" class=\"edge\">\n<title>17&#45;&gt;18</title>\n<path fill=\"none\" stroke=\"#000000\" d=\"M1570.2736,-222.8796C1563.1556,-213.9633 1555.5661,-204.4565 1548.2308,-195.268\"/>\n<polygon fill=\"#000000\" stroke=\"#000000\" points=\"1550.8425,-192.9295 1541.8682,-187.2981 1545.3719,-197.2968 1550.8425,-192.9295\"/>\n</g>\n<!-- 21 -->\n<g id=\"node22\" class=\"node\">\n<title>21</title>\n<path fill=\"#965ae9\" stroke=\"#000000\" d=\"M1773.5,-187C1773.5,-187 1625.5,-187 1625.5,-187 1619.5,-187 1613.5,-181 1613.5,-175 1613.5,-175 1613.5,-116 1613.5,-116 1613.5,-110 1619.5,-104 1625.5,-104 1625.5,-104 1773.5,-104 1773.5,-104 1779.5,-104 1785.5,-110 1785.5,-116 1785.5,-116 1785.5,-175 1785.5,-175 1785.5,-181 1779.5,-187 1773.5,-187\"/>\n<text text-anchor=\"start\" x=\"1668.5\" y=\"-171.8\" font-family=\"Helvetica,sans-Serif\" font-size=\"14.00\" fill=\"#000000\">node #21</text>\n<text text-anchor=\"start\" x=\"1621.5\" y=\"-156.8\" font-family=\"Helvetica,sans-Serif\" font-size=\"14.00\" fill=\"#000000\">RoutDeliveryOrder ≤ 1.5</text>\n<text text-anchor=\"start\" x=\"1655.5\" y=\"-141.8\" font-family=\"Helvetica,sans-Serif\" font-size=\"14.00\" fill=\"#000000\">samples = 14</text>\n<text text-anchor=\"start\" x=\"1646\" y=\"-126.8\" font-family=\"Helvetica,sans-Serif\" font-size=\"14.00\" fill=\"#000000\">value = [0, 2, 12]</text>\n<text text-anchor=\"start\" x=\"1658\" y=\"-111.8\" font-family=\"Helvetica,sans-Serif\" font-size=\"14.00\" fill=\"#000000\">class = good</text>\n</g>\n<!-- 17&#45;&gt;21 -->\n<g id=\"edge21\" class=\"edge\">\n<title>17&#45;&gt;21</title>\n<path fill=\"none\" stroke=\"#000000\" d=\"M1637.0761,-222.8796C1644.2691,-213.9633 1651.9384,-204.4565 1659.351,-195.268\"/>\n<polygon fill=\"#000000\" stroke=\"#000000\" points=\"1662.2258,-197.2788 1665.7805,-187.2981 1656.7776,-192.8836 1662.2258,-197.2788\"/>\n</g>\n<!-- 19 -->\n<g id=\"node20\" class=\"node\">\n<title>19</title>\n<path fill=\"#f4edfd\" stroke=\"#000000\" d=\"M1449.5,-68C1449.5,-68 1317.5,-68 1317.5,-68 1311.5,-68 1305.5,-62 1305.5,-56 1305.5,-56 1305.5,-12 1305.5,-12 1305.5,-6 1311.5,0 1317.5,0 1317.5,0 1449.5,0 1449.5,0 1455.5,0 1461.5,-6 1461.5,-12 1461.5,-12 1461.5,-56 1461.5,-56 1461.5,-62 1455.5,-68 1449.5,-68\"/>\n<text text-anchor=\"start\" x=\"1352.5\" y=\"-52.8\" font-family=\"Helvetica,sans-Serif\" font-size=\"14.00\" fill=\"#000000\">node #19</text>\n<text text-anchor=\"start\" x=\"1335.5\" y=\"-37.8\" font-family=\"Helvetica,sans-Serif\" font-size=\"14.00\" fill=\"#000000\">samples = 256</text>\n<text text-anchor=\"start\" x=\"1313.5\" y=\"-22.8\" font-family=\"Helvetica,sans-Serif\" font-size=\"14.00\" fill=\"#000000\">value = [102, 38, 116]</text>\n<text text-anchor=\"start\" x=\"1342\" y=\"-7.8\" font-family=\"Helvetica,sans-Serif\" font-size=\"14.00\" fill=\"#000000\">class = good</text>\n</g>\n<!-- 18&#45;&gt;19 -->\n<g id=\"edge19\" class=\"edge\">\n<title>18&#45;&gt;19</title>\n<path fill=\"none\" stroke=\"#000000\" d=\"M1461.9546,-103.9815C1451.3421,-94.5151 1440.0718,-84.462 1429.4829,-75.0168\"/>\n<polygon fill=\"#000000\" stroke=\"#000000\" points=\"1431.7046,-72.3084 1421.9122,-68.2637 1427.0449,-77.5322 1431.7046,-72.3084\"/>\n</g>\n<!-- 20 -->\n<g id=\"node21\" class=\"node\">\n<title>20</title>\n<path fill=\"#a06aec\" stroke=\"#000000\" d=\"M1583,-68C1583,-68 1492,-68 1492,-68 1486,-68 1480,-62 1480,-56 1480,-56 1480,-12 1480,-12 1480,-6 1486,0 1492,0 1492,0 1583,0 1583,0 1589,0 1595,-6 1595,-12 1595,-12 1595,-56 1595,-56 1595,-62 1589,-68 1583,-68\"/>\n<text text-anchor=\"start\" x=\"1506.5\" y=\"-52.8\" font-family=\"Helvetica,sans-Serif\" font-size=\"14.00\" fill=\"#000000\">node #20</text>\n<text text-anchor=\"start\" x=\"1493.5\" y=\"-37.8\" font-family=\"Helvetica,sans-Serif\" font-size=\"14.00\" fill=\"#000000\">samples = 10</text>\n<text text-anchor=\"start\" x=\"1488\" y=\"-22.8\" font-family=\"Helvetica,sans-Serif\" font-size=\"14.00\" fill=\"#000000\">value = [0, 2, 8]</text>\n<text text-anchor=\"start\" x=\"1496\" y=\"-7.8\" font-family=\"Helvetica,sans-Serif\" font-size=\"14.00\" fill=\"#000000\">class = good</text>\n</g>\n<!-- 18&#45;&gt;20 -->\n<g id=\"edge20\" class=\"edge\">\n<title>18&#45;&gt;20</title>\n<path fill=\"none\" stroke=\"#000000\" d=\"M1519.2985,-103.9815C1521.4977,-95.5261 1523.8186,-86.6026 1526.0399,-78.0623\"/>\n<polygon fill=\"#000000\" stroke=\"#000000\" points=\"1529.4585,-78.8227 1528.5884,-68.2637 1522.6838,-77.0607 1529.4585,-78.8227\"/>\n</g>\n<!-- 22 -->\n<g id=\"node23\" class=\"node\">\n<title>22</title>\n<path fill=\"#39e581\" stroke=\"#000000\" d=\"M1716,-68C1716,-68 1625,-68 1625,-68 1619,-68 1613,-62 1613,-56 1613,-56 1613,-12 1613,-12 1613,-6 1619,0 1625,0 1625,0 1716,0 1716,0 1722,0 1728,-6 1728,-12 1728,-12 1728,-56 1728,-56 1728,-62 1722,-68 1716,-68\"/>\n<text text-anchor=\"start\" x=\"1639.5\" y=\"-52.8\" font-family=\"Helvetica,sans-Serif\" font-size=\"14.00\" fill=\"#000000\">node #22</text>\n<text text-anchor=\"start\" x=\"1631\" y=\"-37.8\" font-family=\"Helvetica,sans-Serif\" font-size=\"14.00\" fill=\"#000000\">samples = 2</text>\n<text text-anchor=\"start\" x=\"1621\" y=\"-22.8\" font-family=\"Helvetica,sans-Serif\" font-size=\"14.00\" fill=\"#000000\">value = [0, 2, 0]</text>\n<text text-anchor=\"start\" x=\"1633\" y=\"-7.8\" font-family=\"Helvetica,sans-Serif\" font-size=\"14.00\" fill=\"#000000\">class = bad</text>\n</g>\n<!-- 21&#45;&gt;22 -->\n<g id=\"edge22\" class=\"edge\">\n<title>21&#45;&gt;22</title>\n<path fill=\"none\" stroke=\"#000000\" d=\"M1688.7015,-103.9815C1686.5023,-95.5261 1684.1814,-86.6026 1681.9601,-78.0623\"/>\n<polygon fill=\"#000000\" stroke=\"#000000\" points=\"1685.3162,-77.0607 1679.4116,-68.2637 1678.5415,-78.8227 1685.3162,-77.0607\"/>\n</g>\n<!-- 23 -->\n<g id=\"node24\" class=\"node\">\n<title>23</title>\n<path fill=\"#8139e5\" stroke=\"#000000\" d=\"M1857,-68C1857,-68 1758,-68 1758,-68 1752,-68 1746,-62 1746,-56 1746,-56 1746,-12 1746,-12 1746,-6 1752,0 1758,0 1758,0 1857,0 1857,0 1863,0 1869,-6 1869,-12 1869,-12 1869,-56 1869,-56 1869,-62 1863,-68 1857,-68\"/>\n<text text-anchor=\"start\" x=\"1776.5\" y=\"-52.8\" font-family=\"Helvetica,sans-Serif\" font-size=\"14.00\" fill=\"#000000\">node #23</text>\n<text text-anchor=\"start\" x=\"1763.5\" y=\"-37.8\" font-family=\"Helvetica,sans-Serif\" font-size=\"14.00\" fill=\"#000000\">samples = 12</text>\n<text text-anchor=\"start\" x=\"1754\" y=\"-22.8\" font-family=\"Helvetica,sans-Serif\" font-size=\"14.00\" fill=\"#000000\">value = [0, 0, 12]</text>\n<text text-anchor=\"start\" x=\"1766\" y=\"-7.8\" font-family=\"Helvetica,sans-Serif\" font-size=\"14.00\" fill=\"#000000\">class = good</text>\n</g>\n<!-- 21&#45;&gt;23 -->\n<g id=\"edge23\" class=\"edge\">\n<title>21&#45;&gt;23</title>\n<path fill=\"none\" stroke=\"#000000\" d=\"M1739.7152,-103.9815C1748.7064,-94.6989 1758.244,-84.8522 1767.2371,-75.5677\"/>\n<polygon fill=\"#000000\" stroke=\"#000000\" points=\"1769.8684,-77.8817 1774.3119,-68.2637 1764.8404,-73.0115 1769.8684,-77.8817\"/>\n</g>\n<!-- 25 -->\n<g id=\"node26\" class=\"node\">\n<title>25</title>\n<path fill=\"#9d66eb\" stroke=\"#000000\" d=\"M2083,-187C2083,-187 1934,-187 1934,-187 1928,-187 1922,-181 1922,-175 1922,-175 1922,-116 1922,-116 1922,-110 1928,-104 1934,-104 1934,-104 2083,-104 2083,-104 2089,-104 2095,-110 2095,-116 2095,-116 2095,-175 2095,-175 2095,-181 2089,-187 2083,-187\"/>\n<text text-anchor=\"start\" x=\"1977.5\" y=\"-171.8\" font-family=\"Helvetica,sans-Serif\" font-size=\"14.00\" fill=\"#000000\">node #25</text>\n<text text-anchor=\"start\" x=\"1930\" y=\"-156.8\" font-family=\"Helvetica,sans-Serif\" font-size=\"14.00\" fill=\"#000000\">DriverCD_C_D1_1 ≤ 0.5</text>\n<text text-anchor=\"start\" x=\"1964.5\" y=\"-141.8\" font-family=\"Helvetica,sans-Serif\" font-size=\"14.00\" fill=\"#000000\">samples = 90</text>\n<text text-anchor=\"start\" x=\"1951\" y=\"-126.8\" font-family=\"Helvetica,sans-Serif\" font-size=\"14.00\" fill=\"#000000\">value = [10, 8, 72]</text>\n<text text-anchor=\"start\" x=\"1967\" y=\"-111.8\" font-family=\"Helvetica,sans-Serif\" font-size=\"14.00\" fill=\"#000000\">class = good</text>\n</g>\n<!-- 24&#45;&gt;25 -->\n<g id=\"edge25\" class=\"edge\">\n<title>24&#45;&gt;25</title>\n<path fill=\"none\" stroke=\"#000000\" d=\"M2008.5,-222.8796C2008.5,-214.6838 2008.5,-205.9891 2008.5,-197.5013\"/>\n<polygon fill=\"#000000\" stroke=\"#000000\" points=\"2012.0001,-197.298 2008.5,-187.2981 2005.0001,-197.2981 2012.0001,-197.298\"/>\n</g>\n<!-- 28 -->\n<g id=\"node29\" class=\"node\">\n<title>28</title>\n<path fill=\"#f6d5bd\" stroke=\"#000000\" d=\"M2276,-187C2276,-187 2181,-187 2181,-187 2175,-187 2169,-181 2169,-175 2169,-175 2169,-116 2169,-116 2169,-110 2175,-104 2181,-104 2181,-104 2276,-104 2276,-104 2282,-104 2288,-110 2288,-116 2288,-116 2288,-175 2288,-175 2288,-181 2282,-187 2276,-187\"/>\n<text text-anchor=\"start\" x=\"2197.5\" y=\"-171.8\" font-family=\"Helvetica,sans-Serif\" font-size=\"14.00\" fill=\"#000000\">node #28</text>\n<text text-anchor=\"start\" x=\"2178.5\" y=\"-156.8\" font-family=\"Helvetica,sans-Serif\" font-size=\"14.00\" fill=\"#000000\">Origin_F3 ≤ 0.5</text>\n<text text-anchor=\"start\" x=\"2189\" y=\"-141.8\" font-family=\"Helvetica,sans-Serif\" font-size=\"14.00\" fill=\"#000000\">samples = 8</text>\n<text text-anchor=\"start\" x=\"2179\" y=\"-126.8\" font-family=\"Helvetica,sans-Serif\" font-size=\"14.00\" fill=\"#000000\">value = [4, 2, 2]</text>\n<text text-anchor=\"start\" x=\"2177\" y=\"-111.8\" font-family=\"Helvetica,sans-Serif\" font-size=\"14.00\" fill=\"#000000\">class = average</text>\n</g>\n<!-- 24&#45;&gt;28 -->\n<g id=\"edge28\" class=\"edge\">\n<title>24&#45;&gt;28</title>\n<path fill=\"none\" stroke=\"#000000\" d=\"M2085.4453,-222.8796C2109.7272,-209.7453 2136.3781,-195.3296 2160.0274,-182.5374\"/>\n<polygon fill=\"#000000\" stroke=\"#000000\" points=\"2161.8026,-185.5565 2168.9331,-177.7203 2158.4722,-179.3995 2161.8026,-185.5565\"/>\n</g>\n<!-- 26 -->\n<g id=\"node27\" class=\"node\">\n<title>26</title>\n<path fill=\"#9b62ea\" stroke=\"#000000\" d=\"M2006,-68C2006,-68 1899,-68 1899,-68 1893,-68 1887,-62 1887,-56 1887,-56 1887,-12 1887,-12 1887,-6 1893,0 1899,0 1899,0 2006,0 2006,0 2012,0 2018,-6 2018,-12 2018,-12 2018,-56 2018,-56 2018,-62 2012,-68 2006,-68\"/>\n<text text-anchor=\"start\" x=\"1921.5\" y=\"-52.8\" font-family=\"Helvetica,sans-Serif\" font-size=\"14.00\" fill=\"#000000\">node #26</text>\n<text text-anchor=\"start\" x=\"1908.5\" y=\"-37.8\" font-family=\"Helvetica,sans-Serif\" font-size=\"14.00\" fill=\"#000000\">samples = 88</text>\n<text text-anchor=\"start\" x=\"1895\" y=\"-22.8\" font-family=\"Helvetica,sans-Serif\" font-size=\"14.00\" fill=\"#000000\">value = [10, 6, 72]</text>\n<text text-anchor=\"start\" x=\"1911\" y=\"-7.8\" font-family=\"Helvetica,sans-Serif\" font-size=\"14.00\" fill=\"#000000\">class = good</text>\n</g>\n<!-- 25&#45;&gt;26 -->\n<g id=\"edge26\" class=\"edge\">\n<title>25&#45;&gt;26</title>\n<path fill=\"none\" stroke=\"#000000\" d=\"M1987.6477,-103.9815C1983.2625,-95.2504 1978.6267,-86.0202 1974.211,-77.2281\"/>\n<polygon fill=\"#000000\" stroke=\"#000000\" points=\"1977.3246,-75.6291 1969.7087,-68.2637 1971.0692,-78.7708 1977.3246,-75.6291\"/>\n</g>\n<!-- 27 -->\n<g id=\"node28\" class=\"node\">\n<title>27</title>\n<path fill=\"#39e581\" stroke=\"#000000\" d=\"M2139,-68C2139,-68 2048,-68 2048,-68 2042,-68 2036,-62 2036,-56 2036,-56 2036,-12 2036,-12 2036,-6 2042,0 2048,0 2048,0 2139,0 2139,0 2145,0 2151,-6 2151,-12 2151,-12 2151,-56 2151,-56 2151,-62 2145,-68 2139,-68\"/>\n<text text-anchor=\"start\" x=\"2062.5\" y=\"-52.8\" font-family=\"Helvetica,sans-Serif\" font-size=\"14.00\" fill=\"#000000\">node #27</text>\n<text text-anchor=\"start\" x=\"2054\" y=\"-37.8\" font-family=\"Helvetica,sans-Serif\" font-size=\"14.00\" fill=\"#000000\">samples = 2</text>\n<text text-anchor=\"start\" x=\"2044\" y=\"-22.8\" font-family=\"Helvetica,sans-Serif\" font-size=\"14.00\" fill=\"#000000\">value = [0, 2, 0]</text>\n<text text-anchor=\"start\" x=\"2056\" y=\"-7.8\" font-family=\"Helvetica,sans-Serif\" font-size=\"14.00\" fill=\"#000000\">class = bad</text>\n</g>\n<!-- 25&#45;&gt;27 -->\n<g id=\"edge27\" class=\"edge\">\n<title>25&#45;&gt;27</title>\n<path fill=\"none\" stroke=\"#000000\" d=\"M2040.1509,-103.9815C2047.0171,-94.9747 2054.2882,-85.4367 2061.1798,-76.3965\"/>\n<polygon fill=\"#000000\" stroke=\"#000000\" points=\"2064.1005,-78.3383 2067.3797,-68.2637 2058.5336,-74.0945 2064.1005,-78.3383\"/>\n</g>\n<!-- 29 -->\n<g id=\"node30\" class=\"node\">\n<title>29</title>\n<path fill=\"#f2c09c\" stroke=\"#000000\" d=\"M2276,-68C2276,-68 2181,-68 2181,-68 2175,-68 2169,-62 2169,-56 2169,-56 2169,-12 2169,-12 2169,-6 2175,0 2181,0 2181,0 2276,0 2276,0 2282,0 2288,-6 2288,-12 2288,-12 2288,-56 2288,-56 2288,-62 2282,-68 2276,-68\"/>\n<text text-anchor=\"start\" x=\"2197.5\" y=\"-52.8\" font-family=\"Helvetica,sans-Serif\" font-size=\"14.00\" fill=\"#000000\">node #29</text>\n<text text-anchor=\"start\" x=\"2189\" y=\"-37.8\" font-family=\"Helvetica,sans-Serif\" font-size=\"14.00\" fill=\"#000000\">samples = 6</text>\n<text text-anchor=\"start\" x=\"2179\" y=\"-22.8\" font-family=\"Helvetica,sans-Serif\" font-size=\"14.00\" fill=\"#000000\">value = [4, 2, 0]</text>\n<text text-anchor=\"start\" x=\"2177\" y=\"-7.8\" font-family=\"Helvetica,sans-Serif\" font-size=\"14.00\" fill=\"#000000\">class = average</text>\n</g>\n<!-- 28&#45;&gt;29 -->\n<g id=\"edge29\" class=\"edge\">\n<title>28&#45;&gt;29</title>\n<path fill=\"none\" stroke=\"#000000\" d=\"M2228.5,-103.9815C2228.5,-95.618 2228.5,-86.7965 2228.5,-78.3409\"/>\n<polygon fill=\"#000000\" stroke=\"#000000\" points=\"2232.0001,-78.2636 2228.5,-68.2637 2225.0001,-78.2637 2232.0001,-78.2636\"/>\n</g>\n<!-- 30 -->\n<g id=\"node31\" class=\"node\">\n<title>30</title>\n<path fill=\"#8139e5\" stroke=\"#000000\" d=\"M2409,-68C2409,-68 2318,-68 2318,-68 2312,-68 2306,-62 2306,-56 2306,-56 2306,-12 2306,-12 2306,-6 2312,0 2318,0 2318,0 2409,0 2409,0 2415,0 2421,-6 2421,-12 2421,-12 2421,-56 2421,-56 2421,-62 2415,-68 2409,-68\"/>\n<text text-anchor=\"start\" x=\"2332.5\" y=\"-52.8\" font-family=\"Helvetica,sans-Serif\" font-size=\"14.00\" fill=\"#000000\">node #30</text>\n<text text-anchor=\"start\" x=\"2324\" y=\"-37.8\" font-family=\"Helvetica,sans-Serif\" font-size=\"14.00\" fill=\"#000000\">samples = 2</text>\n<text text-anchor=\"start\" x=\"2314\" y=\"-22.8\" font-family=\"Helvetica,sans-Serif\" font-size=\"14.00\" fill=\"#000000\">value = [0, 0, 2]</text>\n<text text-anchor=\"start\" x=\"2322\" y=\"-7.8\" font-family=\"Helvetica,sans-Serif\" font-size=\"14.00\" fill=\"#000000\">class = good</text>\n</g>\n<!-- 28&#45;&gt;30 -->\n<g id=\"edge30\" class=\"edge\">\n<title>28&#45;&gt;30</title>\n<path fill=\"none\" stroke=\"#000000\" d=\"M2278.769,-103.9815C2290.3418,-94.4232 2302.6389,-84.2668 2314.1713,-74.7419\"/>\n<polygon fill=\"#000000\" stroke=\"#000000\" points=\"2316.5334,-77.3304 2322.0148,-68.2637 2312.0757,-71.9332 2316.5334,-77.3304\"/>\n</g>\n</g>\n</svg>\n"
          },
          "metadata": {
            "tags": []
          },
          "execution_count": 72
        }
      ]
    },
    {
      "cell_type": "markdown",
      "metadata": {
        "id": "upoMZ7idwYdH"
      },
      "source": [
        "# *Brinque um pouco com os parâmetros modificando-os para ver o que acontece!*"
      ]
    },
    {
      "cell_type": "markdown",
      "metadata": {
        "id": "3IPqosiQu52z"
      },
      "source": [
        "\n",
        "### Obrigado por concluir o SUPER CASE!\n",
        "\n",
        "## Autor\n",
        "\n",
        "<a href=\"https://www.linkedin.com/in/eduardopecora/\" target=\"_blank\">Eduardo Pecora</a>\n",
        "\n",
        "## Log de modificações\n",
        "\n",
        "| Data | Versão | Modificado por | Descrição |\n",
        "| ----------------- | ------- | ---------- | ---------------------------------- |\n",
        "| 04-04-2021       | 1.0     | Eduardo Pecora    | Documentação               |\n",
        "\n",
        "<hr>\n",
        "\n",
        "## <h3 align=\"center\"> (c) INSTA/ UFPR 2021. All rights reserved. <h3/>\n",
        "\n"
      ]
    }
  ]
}
